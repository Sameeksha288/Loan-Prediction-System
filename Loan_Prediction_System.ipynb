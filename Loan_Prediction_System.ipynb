{
  "cells": [
    {
      "cell_type": "markdown",
      "metadata": {
        "id": "view-in-github",
        "colab_type": "text"
      },
      "source": [
        "<a href=\"https://colab.research.google.com/github/Sameeksha288/Loan-Prediction-System/blob/main/Loan_Prediction_System.ipynb\" target=\"_parent\"><img src=\"https://colab.research.google.com/assets/colab-badge.svg\" alt=\"Open In Colab\"/></a>"
      ]
    },
    {
      "cell_type": "code",
      "execution_count": null,
      "metadata": {
        "id": "o0cYT6A055Hl"
      },
      "outputs": [],
      "source": [
        "import pandas as pd\n",
        "import matplotlib.pyplot as plt\n",
        "import numpy as np\n",
        "import seaborn as sns\n",
        "\n",
        "import tensorflow as tf\n",
        "from tensorflow import keras\n",
        "from tensorflow.keras.layers import Dense, Activation, Dropout\n",
        "from tensorflow.keras.optimizers import Adam\n",
        "from tensorflow.keras.metrics import Accuracy\n",
        "import matplotlib.pyplot as plt"
      ]
    },
    {
      "cell_type": "code",
      "execution_count": null,
      "metadata": {
        "id": "7xd0WHZJ6hhY"
      },
      "outputs": [],
      "source": [
        "df = pd.read_csv(\"/content/train_u6lujuX_CVtuZ9i (1) (1).csv\")"
      ]
    },
    {
      "cell_type": "code",
      "execution_count": null,
      "metadata": {
        "colab": {
          "base_uri": "https://localhost:8080/",
          "height": 288
        },
        "id": "9Dpy_9nY7N8X",
        "outputId": "f15173ca-9385-47f3-c74c-5869bb87f8f5"
      },
      "outputs": [
        {
          "output_type": "execute_result",
          "data": {
            "text/plain": [
              "    Loan_ID Gender Married Dependents     Education Self_Employed  \\\n",
              "0  LP001002   Male      No          0      Graduate            No   \n",
              "1  LP001003   Male     Yes          1      Graduate            No   \n",
              "2  LP001005   Male     Yes          0      Graduate           Yes   \n",
              "3  LP001006   Male     Yes          0  Not Graduate            No   \n",
              "4  LP001008   Male      No          0      Graduate            No   \n",
              "\n",
              "   ApplicantIncome  CoapplicantIncome  LoanAmount  Loan_Amount_Term  \\\n",
              "0             5849                0.0         NaN             360.0   \n",
              "1             4583             1508.0       128.0             360.0   \n",
              "2             3000                0.0        66.0             360.0   \n",
              "3             2583             2358.0       120.0             360.0   \n",
              "4             6000                0.0       141.0             360.0   \n",
              "\n",
              "   Credit_History Property_Area Loan_Status  \n",
              "0             1.0         Urban           Y  \n",
              "1             1.0         Rural           N  \n",
              "2             1.0         Urban           Y  \n",
              "3             1.0         Urban           Y  \n",
              "4             1.0         Urban           Y  "
            ],
            "text/html": [
              "\n",
              "  <div id=\"df-bf9406a8-1744-40aa-a061-5aaa098015df\">\n",
              "    <div class=\"colab-df-container\">\n",
              "      <div>\n",
              "<style scoped>\n",
              "    .dataframe tbody tr th:only-of-type {\n",
              "        vertical-align: middle;\n",
              "    }\n",
              "\n",
              "    .dataframe tbody tr th {\n",
              "        vertical-align: top;\n",
              "    }\n",
              "\n",
              "    .dataframe thead th {\n",
              "        text-align: right;\n",
              "    }\n",
              "</style>\n",
              "<table border=\"1\" class=\"dataframe\">\n",
              "  <thead>\n",
              "    <tr style=\"text-align: right;\">\n",
              "      <th></th>\n",
              "      <th>Loan_ID</th>\n",
              "      <th>Gender</th>\n",
              "      <th>Married</th>\n",
              "      <th>Dependents</th>\n",
              "      <th>Education</th>\n",
              "      <th>Self_Employed</th>\n",
              "      <th>ApplicantIncome</th>\n",
              "      <th>CoapplicantIncome</th>\n",
              "      <th>LoanAmount</th>\n",
              "      <th>Loan_Amount_Term</th>\n",
              "      <th>Credit_History</th>\n",
              "      <th>Property_Area</th>\n",
              "      <th>Loan_Status</th>\n",
              "    </tr>\n",
              "  </thead>\n",
              "  <tbody>\n",
              "    <tr>\n",
              "      <th>0</th>\n",
              "      <td>LP001002</td>\n",
              "      <td>Male</td>\n",
              "      <td>No</td>\n",
              "      <td>0</td>\n",
              "      <td>Graduate</td>\n",
              "      <td>No</td>\n",
              "      <td>5849</td>\n",
              "      <td>0.0</td>\n",
              "      <td>NaN</td>\n",
              "      <td>360.0</td>\n",
              "      <td>1.0</td>\n",
              "      <td>Urban</td>\n",
              "      <td>Y</td>\n",
              "    </tr>\n",
              "    <tr>\n",
              "      <th>1</th>\n",
              "      <td>LP001003</td>\n",
              "      <td>Male</td>\n",
              "      <td>Yes</td>\n",
              "      <td>1</td>\n",
              "      <td>Graduate</td>\n",
              "      <td>No</td>\n",
              "      <td>4583</td>\n",
              "      <td>1508.0</td>\n",
              "      <td>128.0</td>\n",
              "      <td>360.0</td>\n",
              "      <td>1.0</td>\n",
              "      <td>Rural</td>\n",
              "      <td>N</td>\n",
              "    </tr>\n",
              "    <tr>\n",
              "      <th>2</th>\n",
              "      <td>LP001005</td>\n",
              "      <td>Male</td>\n",
              "      <td>Yes</td>\n",
              "      <td>0</td>\n",
              "      <td>Graduate</td>\n",
              "      <td>Yes</td>\n",
              "      <td>3000</td>\n",
              "      <td>0.0</td>\n",
              "      <td>66.0</td>\n",
              "      <td>360.0</td>\n",
              "      <td>1.0</td>\n",
              "      <td>Urban</td>\n",
              "      <td>Y</td>\n",
              "    </tr>\n",
              "    <tr>\n",
              "      <th>3</th>\n",
              "      <td>LP001006</td>\n",
              "      <td>Male</td>\n",
              "      <td>Yes</td>\n",
              "      <td>0</td>\n",
              "      <td>Not Graduate</td>\n",
              "      <td>No</td>\n",
              "      <td>2583</td>\n",
              "      <td>2358.0</td>\n",
              "      <td>120.0</td>\n",
              "      <td>360.0</td>\n",
              "      <td>1.0</td>\n",
              "      <td>Urban</td>\n",
              "      <td>Y</td>\n",
              "    </tr>\n",
              "    <tr>\n",
              "      <th>4</th>\n",
              "      <td>LP001008</td>\n",
              "      <td>Male</td>\n",
              "      <td>No</td>\n",
              "      <td>0</td>\n",
              "      <td>Graduate</td>\n",
              "      <td>No</td>\n",
              "      <td>6000</td>\n",
              "      <td>0.0</td>\n",
              "      <td>141.0</td>\n",
              "      <td>360.0</td>\n",
              "      <td>1.0</td>\n",
              "      <td>Urban</td>\n",
              "      <td>Y</td>\n",
              "    </tr>\n",
              "  </tbody>\n",
              "</table>\n",
              "</div>\n",
              "      <button class=\"colab-df-convert\" onclick=\"convertToInteractive('df-bf9406a8-1744-40aa-a061-5aaa098015df')\"\n",
              "              title=\"Convert this dataframe to an interactive table.\"\n",
              "              style=\"display:none;\">\n",
              "        \n",
              "  <svg xmlns=\"http://www.w3.org/2000/svg\" height=\"24px\"viewBox=\"0 0 24 24\"\n",
              "       width=\"24px\">\n",
              "    <path d=\"M0 0h24v24H0V0z\" fill=\"none\"/>\n",
              "    <path d=\"M18.56 5.44l.94 2.06.94-2.06 2.06-.94-2.06-.94-.94-2.06-.94 2.06-2.06.94zm-11 1L8.5 8.5l.94-2.06 2.06-.94-2.06-.94L8.5 2.5l-.94 2.06-2.06.94zm10 10l.94 2.06.94-2.06 2.06-.94-2.06-.94-.94-2.06-.94 2.06-2.06.94z\"/><path d=\"M17.41 7.96l-1.37-1.37c-.4-.4-.92-.59-1.43-.59-.52 0-1.04.2-1.43.59L10.3 9.45l-7.72 7.72c-.78.78-.78 2.05 0 2.83L4 21.41c.39.39.9.59 1.41.59.51 0 1.02-.2 1.41-.59l7.78-7.78 2.81-2.81c.8-.78.8-2.07 0-2.86zM5.41 20L4 18.59l7.72-7.72 1.47 1.35L5.41 20z\"/>\n",
              "  </svg>\n",
              "      </button>\n",
              "      \n",
              "  <style>\n",
              "    .colab-df-container {\n",
              "      display:flex;\n",
              "      flex-wrap:wrap;\n",
              "      gap: 12px;\n",
              "    }\n",
              "\n",
              "    .colab-df-convert {\n",
              "      background-color: #E8F0FE;\n",
              "      border: none;\n",
              "      border-radius: 50%;\n",
              "      cursor: pointer;\n",
              "      display: none;\n",
              "      fill: #1967D2;\n",
              "      height: 32px;\n",
              "      padding: 0 0 0 0;\n",
              "      width: 32px;\n",
              "    }\n",
              "\n",
              "    .colab-df-convert:hover {\n",
              "      background-color: #E2EBFA;\n",
              "      box-shadow: 0px 1px 2px rgba(60, 64, 67, 0.3), 0px 1px 3px 1px rgba(60, 64, 67, 0.15);\n",
              "      fill: #174EA6;\n",
              "    }\n",
              "\n",
              "    [theme=dark] .colab-df-convert {\n",
              "      background-color: #3B4455;\n",
              "      fill: #D2E3FC;\n",
              "    }\n",
              "\n",
              "    [theme=dark] .colab-df-convert:hover {\n",
              "      background-color: #434B5C;\n",
              "      box-shadow: 0px 1px 3px 1px rgba(0, 0, 0, 0.15);\n",
              "      filter: drop-shadow(0px 1px 2px rgba(0, 0, 0, 0.3));\n",
              "      fill: #FFFFFF;\n",
              "    }\n",
              "  </style>\n",
              "\n",
              "      <script>\n",
              "        const buttonEl =\n",
              "          document.querySelector('#df-bf9406a8-1744-40aa-a061-5aaa098015df button.colab-df-convert');\n",
              "        buttonEl.style.display =\n",
              "          google.colab.kernel.accessAllowed ? 'block' : 'none';\n",
              "\n",
              "        async function convertToInteractive(key) {\n",
              "          const element = document.querySelector('#df-bf9406a8-1744-40aa-a061-5aaa098015df');\n",
              "          const dataTable =\n",
              "            await google.colab.kernel.invokeFunction('convertToInteractive',\n",
              "                                                     [key], {});\n",
              "          if (!dataTable) return;\n",
              "\n",
              "          const docLinkHtml = 'Like what you see? Visit the ' +\n",
              "            '<a target=\"_blank\" href=https://colab.research.google.com/notebooks/data_table.ipynb>data table notebook</a>'\n",
              "            + ' to learn more about interactive tables.';\n",
              "          element.innerHTML = '';\n",
              "          dataTable['output_type'] = 'display_data';\n",
              "          await google.colab.output.renderOutput(dataTable, element);\n",
              "          const docLink = document.createElement('div');\n",
              "          docLink.innerHTML = docLinkHtml;\n",
              "          element.appendChild(docLink);\n",
              "        }\n",
              "      </script>\n",
              "    </div>\n",
              "  </div>\n",
              "  "
            ]
          },
          "metadata": {},
          "execution_count": 3
        }
      ],
      "source": [
        "df.head()"
      ]
    },
    {
      "cell_type": "code",
      "execution_count": null,
      "metadata": {
        "colab": {
          "base_uri": "https://localhost:8080/"
        },
        "id": "2ZXJhyzD7PiT",
        "outputId": "62b4f74e-2aa5-4e9f-bc9f-763429019aa5"
      },
      "outputs": [
        {
          "output_type": "execute_result",
          "data": {
            "text/plain": [
              "(614, 13)"
            ]
          },
          "metadata": {},
          "execution_count": 4
        }
      ],
      "source": [
        "df.shape"
      ]
    },
    {
      "cell_type": "code",
      "execution_count": null,
      "metadata": {
        "colab": {
          "base_uri": "https://localhost:8080/"
        },
        "id": "GKl6xW0xYJeP",
        "outputId": "610b2ec8-6fb9-4d60-dbc0-1334d134d5b5"
      },
      "outputs": [
        {
          "output_type": "stream",
          "name": "stdout",
          "text": [
            "<class 'pandas.core.frame.DataFrame'>\n",
            "RangeIndex: 614 entries, 0 to 613\n",
            "Data columns (total 13 columns):\n",
            " #   Column             Non-Null Count  Dtype  \n",
            "---  ------             --------------  -----  \n",
            " 0   Loan_ID            614 non-null    object \n",
            " 1   Gender             601 non-null    object \n",
            " 2   Married            611 non-null    object \n",
            " 3   Dependents         599 non-null    object \n",
            " 4   Education          614 non-null    object \n",
            " 5   Self_Employed      582 non-null    object \n",
            " 6   ApplicantIncome    614 non-null    int64  \n",
            " 7   CoapplicantIncome  614 non-null    float64\n",
            " 8   LoanAmount         592 non-null    float64\n",
            " 9   Loan_Amount_Term   600 non-null    float64\n",
            " 10  Credit_History     564 non-null    float64\n",
            " 11  Property_Area      614 non-null    object \n",
            " 12  Loan_Status        614 non-null    object \n",
            "dtypes: float64(4), int64(1), object(8)\n",
            "memory usage: 62.5+ KB\n"
          ]
        }
      ],
      "source": [
        "df.info()"
      ]
    },
    {
      "cell_type": "code",
      "execution_count": null,
      "metadata": {
        "colab": {
          "base_uri": "https://localhost:8080/",
          "height": 206
        },
        "id": "lCZD0kXdYMbp",
        "outputId": "abd483d7-1921-42a7-9ca3-c53b0a3f0c48"
      },
      "outputs": [
        {
          "output_type": "execute_result",
          "data": {
            "text/plain": [
              "                   count         mean          std    min     25%     50%  \\\n",
              "ApplicantIncome    614.0  5403.459283  6109.041673  150.0  2877.5  3812.5   \n",
              "CoapplicantIncome  614.0  1621.245798  2926.248369    0.0     0.0  1188.5   \n",
              "LoanAmount         592.0   146.412162    85.587325    9.0   100.0   128.0   \n",
              "Loan_Amount_Term   600.0   342.000000    65.120410   12.0   360.0   360.0   \n",
              "Credit_History     564.0     0.842199     0.364878    0.0     1.0     1.0   \n",
              "\n",
              "                       75%      max  \n",
              "ApplicantIncome    5795.00  81000.0  \n",
              "CoapplicantIncome  2297.25  41667.0  \n",
              "LoanAmount          168.00    700.0  \n",
              "Loan_Amount_Term    360.00    480.0  \n",
              "Credit_History        1.00      1.0  "
            ],
            "text/html": [
              "\n",
              "  <div id=\"df-5393c1ef-f958-47c7-9084-39dd87cd33f5\">\n",
              "    <div class=\"colab-df-container\">\n",
              "      <div>\n",
              "<style scoped>\n",
              "    .dataframe tbody tr th:only-of-type {\n",
              "        vertical-align: middle;\n",
              "    }\n",
              "\n",
              "    .dataframe tbody tr th {\n",
              "        vertical-align: top;\n",
              "    }\n",
              "\n",
              "    .dataframe thead th {\n",
              "        text-align: right;\n",
              "    }\n",
              "</style>\n",
              "<table border=\"1\" class=\"dataframe\">\n",
              "  <thead>\n",
              "    <tr style=\"text-align: right;\">\n",
              "      <th></th>\n",
              "      <th>count</th>\n",
              "      <th>mean</th>\n",
              "      <th>std</th>\n",
              "      <th>min</th>\n",
              "      <th>25%</th>\n",
              "      <th>50%</th>\n",
              "      <th>75%</th>\n",
              "      <th>max</th>\n",
              "    </tr>\n",
              "  </thead>\n",
              "  <tbody>\n",
              "    <tr>\n",
              "      <th>ApplicantIncome</th>\n",
              "      <td>614.0</td>\n",
              "      <td>5403.459283</td>\n",
              "      <td>6109.041673</td>\n",
              "      <td>150.0</td>\n",
              "      <td>2877.5</td>\n",
              "      <td>3812.5</td>\n",
              "      <td>5795.00</td>\n",
              "      <td>81000.0</td>\n",
              "    </tr>\n",
              "    <tr>\n",
              "      <th>CoapplicantIncome</th>\n",
              "      <td>614.0</td>\n",
              "      <td>1621.245798</td>\n",
              "      <td>2926.248369</td>\n",
              "      <td>0.0</td>\n",
              "      <td>0.0</td>\n",
              "      <td>1188.5</td>\n",
              "      <td>2297.25</td>\n",
              "      <td>41667.0</td>\n",
              "    </tr>\n",
              "    <tr>\n",
              "      <th>LoanAmount</th>\n",
              "      <td>592.0</td>\n",
              "      <td>146.412162</td>\n",
              "      <td>85.587325</td>\n",
              "      <td>9.0</td>\n",
              "      <td>100.0</td>\n",
              "      <td>128.0</td>\n",
              "      <td>168.00</td>\n",
              "      <td>700.0</td>\n",
              "    </tr>\n",
              "    <tr>\n",
              "      <th>Loan_Amount_Term</th>\n",
              "      <td>600.0</td>\n",
              "      <td>342.000000</td>\n",
              "      <td>65.120410</td>\n",
              "      <td>12.0</td>\n",
              "      <td>360.0</td>\n",
              "      <td>360.0</td>\n",
              "      <td>360.00</td>\n",
              "      <td>480.0</td>\n",
              "    </tr>\n",
              "    <tr>\n",
              "      <th>Credit_History</th>\n",
              "      <td>564.0</td>\n",
              "      <td>0.842199</td>\n",
              "      <td>0.364878</td>\n",
              "      <td>0.0</td>\n",
              "      <td>1.0</td>\n",
              "      <td>1.0</td>\n",
              "      <td>1.00</td>\n",
              "      <td>1.0</td>\n",
              "    </tr>\n",
              "  </tbody>\n",
              "</table>\n",
              "</div>\n",
              "      <button class=\"colab-df-convert\" onclick=\"convertToInteractive('df-5393c1ef-f958-47c7-9084-39dd87cd33f5')\"\n",
              "              title=\"Convert this dataframe to an interactive table.\"\n",
              "              style=\"display:none;\">\n",
              "        \n",
              "  <svg xmlns=\"http://www.w3.org/2000/svg\" height=\"24px\"viewBox=\"0 0 24 24\"\n",
              "       width=\"24px\">\n",
              "    <path d=\"M0 0h24v24H0V0z\" fill=\"none\"/>\n",
              "    <path d=\"M18.56 5.44l.94 2.06.94-2.06 2.06-.94-2.06-.94-.94-2.06-.94 2.06-2.06.94zm-11 1L8.5 8.5l.94-2.06 2.06-.94-2.06-.94L8.5 2.5l-.94 2.06-2.06.94zm10 10l.94 2.06.94-2.06 2.06-.94-2.06-.94-.94-2.06-.94 2.06-2.06.94z\"/><path d=\"M17.41 7.96l-1.37-1.37c-.4-.4-.92-.59-1.43-.59-.52 0-1.04.2-1.43.59L10.3 9.45l-7.72 7.72c-.78.78-.78 2.05 0 2.83L4 21.41c.39.39.9.59 1.41.59.51 0 1.02-.2 1.41-.59l7.78-7.78 2.81-2.81c.8-.78.8-2.07 0-2.86zM5.41 20L4 18.59l7.72-7.72 1.47 1.35L5.41 20z\"/>\n",
              "  </svg>\n",
              "      </button>\n",
              "      \n",
              "  <style>\n",
              "    .colab-df-container {\n",
              "      display:flex;\n",
              "      flex-wrap:wrap;\n",
              "      gap: 12px;\n",
              "    }\n",
              "\n",
              "    .colab-df-convert {\n",
              "      background-color: #E8F0FE;\n",
              "      border: none;\n",
              "      border-radius: 50%;\n",
              "      cursor: pointer;\n",
              "      display: none;\n",
              "      fill: #1967D2;\n",
              "      height: 32px;\n",
              "      padding: 0 0 0 0;\n",
              "      width: 32px;\n",
              "    }\n",
              "\n",
              "    .colab-df-convert:hover {\n",
              "      background-color: #E2EBFA;\n",
              "      box-shadow: 0px 1px 2px rgba(60, 64, 67, 0.3), 0px 1px 3px 1px rgba(60, 64, 67, 0.15);\n",
              "      fill: #174EA6;\n",
              "    }\n",
              "\n",
              "    [theme=dark] .colab-df-convert {\n",
              "      background-color: #3B4455;\n",
              "      fill: #D2E3FC;\n",
              "    }\n",
              "\n",
              "    [theme=dark] .colab-df-convert:hover {\n",
              "      background-color: #434B5C;\n",
              "      box-shadow: 0px 1px 3px 1px rgba(0, 0, 0, 0.15);\n",
              "      filter: drop-shadow(0px 1px 2px rgba(0, 0, 0, 0.3));\n",
              "      fill: #FFFFFF;\n",
              "    }\n",
              "  </style>\n",
              "\n",
              "      <script>\n",
              "        const buttonEl =\n",
              "          document.querySelector('#df-5393c1ef-f958-47c7-9084-39dd87cd33f5 button.colab-df-convert');\n",
              "        buttonEl.style.display =\n",
              "          google.colab.kernel.accessAllowed ? 'block' : 'none';\n",
              "\n",
              "        async function convertToInteractive(key) {\n",
              "          const element = document.querySelector('#df-5393c1ef-f958-47c7-9084-39dd87cd33f5');\n",
              "          const dataTable =\n",
              "            await google.colab.kernel.invokeFunction('convertToInteractive',\n",
              "                                                     [key], {});\n",
              "          if (!dataTable) return;\n",
              "\n",
              "          const docLinkHtml = 'Like what you see? Visit the ' +\n",
              "            '<a target=\"_blank\" href=https://colab.research.google.com/notebooks/data_table.ipynb>data table notebook</a>'\n",
              "            + ' to learn more about interactive tables.';\n",
              "          element.innerHTML = '';\n",
              "          dataTable['output_type'] = 'display_data';\n",
              "          await google.colab.output.renderOutput(dataTable, element);\n",
              "          const docLink = document.createElement('div');\n",
              "          docLink.innerHTML = docLinkHtml;\n",
              "          element.appendChild(docLink);\n",
              "        }\n",
              "      </script>\n",
              "    </div>\n",
              "  </div>\n",
              "  "
            ]
          },
          "metadata": {},
          "execution_count": 6
        }
      ],
      "source": [
        "df.describe().T"
      ]
    },
    {
      "cell_type": "code",
      "execution_count": null,
      "metadata": {
        "colab": {
          "base_uri": "https://localhost:8080/"
        },
        "id": "feyTeLn_YQz4",
        "outputId": "da849b31-4c38-4576-b82a-5827463c820e"
      },
      "outputs": [
        {
          "output_type": "execute_result",
          "data": {
            "text/plain": [
              "Loan_ID               0\n",
              "Gender               13\n",
              "Married               3\n",
              "Dependents           15\n",
              "Education             0\n",
              "Self_Employed        32\n",
              "ApplicantIncome       0\n",
              "CoapplicantIncome     0\n",
              "LoanAmount           22\n",
              "Loan_Amount_Term     14\n",
              "Credit_History       50\n",
              "Property_Area         0\n",
              "Loan_Status           0\n",
              "dtype: int64"
            ]
          },
          "metadata": {},
          "execution_count": 7
        }
      ],
      "source": [
        "df.isnull().sum()"
      ]
    },
    {
      "cell_type": "code",
      "execution_count": null,
      "metadata": {
        "colab": {
          "base_uri": "https://localhost:8080/"
        },
        "id": "lhW2KNM9YTWa",
        "outputId": "bde01305-80fa-4081-d537-84d82c30a8c2"
      },
      "outputs": [
        {
          "output_type": "stream",
          "name": "stdout",
          "text": [
            "The average income of the applicant of this dataset is 5403.5.\n"
          ]
        }
      ],
      "source": [
        "avg_income = df[\"ApplicantIncome\"].mean()\n",
        "print (\"The average income of the applicant of this dataset is {:.1f}.\".format(avg_income))"
      ]
    },
    {
      "cell_type": "code",
      "execution_count": null,
      "metadata": {
        "colab": {
          "base_uri": "https://localhost:8080/"
        },
        "id": "YXO58JppYqwq",
        "outputId": "7a4cb414-b1dc-4fbe-f193-bae14a5a5a16"
      },
      "outputs": [
        {
          "output_type": "stream",
          "name": "stdout",
          "text": [
            "The average loan amount of the applicant of this dataset is 5403.5.\n"
          ]
        }
      ],
      "source": [
        "avg_loan_amount = df[\"LoanAmount\"].mean()\n",
        "print (\"The average loan amount of the applicant of this dataset is {:.1f}.\".format(avg_income))"
      ]
    },
    {
      "cell_type": "code",
      "execution_count": null,
      "metadata": {
        "id": "fs2vI2fp7aos"
      },
      "outputs": [],
      "source": [
        "# handling categorical values\n",
        "#GENDER\n",
        "df['Gender'].fillna(df['Gender'].mode()[0], inplace=True)"
      ]
    },
    {
      "cell_type": "code",
      "execution_count": null,
      "metadata": {
        "id": "hJtaxkEi7d5y"
      },
      "outputs": [],
      "source": [
        "#MARRIED\n",
        "df['Married'].fillna(df['Married'].mode()[0], inplace=True)"
      ]
    },
    {
      "cell_type": "code",
      "execution_count": null,
      "metadata": {
        "id": "pan4NoTP7fQW"
      },
      "outputs": [],
      "source": [
        "#DEPENDENT\n",
        "df['Dependents'].fillna(df['Dependents'].mode()[0], inplace=True)"
      ]
    },
    {
      "cell_type": "code",
      "execution_count": null,
      "metadata": {
        "id": "WstqxvrQ7jw3"
      },
      "outputs": [],
      "source": [
        "#EDUCATION\n",
        "df['Education'].fillna(df['Education'].mode()[0], inplace=True)"
      ]
    },
    {
      "cell_type": "code",
      "execution_count": null,
      "metadata": {
        "id": "vkTNoArG7m9O"
      },
      "outputs": [],
      "source": [
        "#SELF EMPLOYED\n",
        "df['Self_Employed'].fillna(df['Self_Employed'].mode()[0], inplace=True)"
      ]
    },
    {
      "cell_type": "code",
      "execution_count": null,
      "metadata": {
        "id": "bn-r834gAqjs"
      },
      "outputs": [],
      "source": [
        "#LOAN AMOUNT TERM\n",
        "df['Loan_Amount_Term'].fillna(df['Loan_Amount_Term'].mode()[0], inplace=True)"
      ]
    },
    {
      "cell_type": "code",
      "execution_count": null,
      "metadata": {
        "id": "bIoKdVW-AsI4"
      },
      "outputs": [],
      "source": [
        "# CREDIT HISTORY\n",
        "df['Credit_History'].fillna(df['Credit_History'].mode()[0], inplace=True)"
      ]
    },
    {
      "cell_type": "code",
      "execution_count": null,
      "metadata": {
        "colab": {
          "base_uri": "https://localhost:8080/"
        },
        "id": "W6OTG9CEAgiJ",
        "outputId": "8c5c3898-423a-4c4c-83ab-b9fb92f8795a"
      },
      "outputs": [
        {
          "output_type": "execute_result",
          "data": {
            "text/plain": [
              "Loan_ID               0\n",
              "Gender                0\n",
              "Married               0\n",
              "Dependents            0\n",
              "Education             0\n",
              "Self_Employed         0\n",
              "ApplicantIncome       0\n",
              "CoapplicantIncome     0\n",
              "LoanAmount           22\n",
              "Loan_Amount_Term      0\n",
              "Credit_History        0\n",
              "Property_Area         0\n",
              "Loan_Status           0\n",
              "dtype: int64"
            ]
          },
          "metadata": {},
          "execution_count": 17
        }
      ],
      "source": [
        "df.isnull().sum()"
      ]
    },
    {
      "cell_type": "code",
      "execution_count": null,
      "metadata": {
        "id": "YRVeZOHcZKlP"
      },
      "outputs": [],
      "source": [
        "#DATA VISUALIZATION"
      ]
    },
    {
      "cell_type": "code",
      "execution_count": null,
      "metadata": {
        "colab": {
          "base_uri": "https://localhost:8080/",
          "height": 1000
        },
        "id": "PkUcZ808ZT2z",
        "outputId": "21f7ceb6-5fcc-43a3-adc6-e4b4883ca17a"
      },
      "outputs": [
        {
          "output_type": "display_data",
          "data": {
            "text/plain": [
              "<Figure size 432x288 with 1 Axes>"
            ],
            "image/png": "[encoded data removed]"
          },
          "metadata": {
            "needs_background": "light"
          }
        },
        {
          "output_type": "display_data",
          "data": {
            "text/plain": [
              "<Figure size 432x288 with 1 Axes>"
            ],
            "image/png": "[encoded data removed]"
          },
          "metadata": {
            "needs_background": "light"
          }
        },
        {
          "output_type": "display_data",
          "data": {
            "text/plain": [
              "<Figure size 432x288 with 1 Axes>"
            ],
            "image/png": "[encoded data removed]"
          },
          "metadata": {
            "needs_background": "light"
          }
        },
        {
          "output_type": "display_data",
          "data": {
            "text/plain": [
              "<Figure size 1440x720 with 1 Axes>"
            ],
            "image/png": "[encoded data removed]"
          },
          "metadata": {
            "needs_background": "light"
          }
        }
      ],
      "source": [
        "sns.countplot(x=df[\"Loan_Status\"])\n",
        "plt.show()\n",
        "\n",
        "sns.countplot(x=df[\"Education\"])\n",
        "plt.show()\n",
        "\n",
        "sns.countplot(x=df[\"Credit_History\"])\n",
        "plt.show()\n",
        "\n",
        "plt.figure(figsize=(20,10))\n",
        "sns.countplot(x=df[\"Dependents\"])\n",
        "plt.show()"
      ]
    },
    {
      "cell_type": "code",
      "execution_count": null,
      "metadata": {
        "colab": {
          "base_uri": "https://localhost:8080/",
          "height": 552
        },
        "id": "Hp9CXteLZWKB",
        "outputId": "b5f751cb-26b2-4cc4-f6a2-76cb976fe7ce"
      },
      "outputs": [
        {
          "output_type": "stream",
          "name": "stderr",
          "text": [
            "/usr/local/lib/python3.7/dist-packages/seaborn/distributions.py:2619: FutureWarning: `distplot` is a deprecated function and will be removed in a future version. Please adapt your code to use either `displot` (a figure-level function with similar flexibility) or `histplot` (an axes-level function for histograms).\n",
            "  warnings.warn(msg, FutureWarning)\n"
          ]
        },
        {
          "output_type": "display_data",
          "data": {
            "text/plain": [
              "<Figure size 1080x576 with 1 Axes>"
            ],
            "image/png": "[encoded data removed]"
          },
          "metadata": {
            "needs_background": "light"
          }
        }
      ],
      "source": [
        "# distribution of the income\n",
        "plt.figure(figsize=(15,8))\n",
        "sns.distplot(df[\"ApplicantIncome\"])\n",
        "plt.show()"
      ]
    },
    {
      "cell_type": "code",
      "execution_count": null,
      "metadata": {
        "colab": {
          "base_uri": "https://localhost:8080/",
          "height": 296
        },
        "id": "HzhzxRlf8eWP",
        "outputId": "aeb7c917-a9aa-4bad-d373-2dc964669573"
      },
      "outputs": [
        {
          "output_type": "execute_result",
          "data": {
            "text/plain": [
              "<matplotlib.axes._subplots.AxesSubplot at 0x7f33f953e150>"
            ]
          },
          "metadata": {},
          "execution_count": 21
        },
        {
          "output_type": "display_data",
          "data": {
            "text/plain": [
              "<Figure size 432x288 with 1 Axes>"
            ],
            "image/png": "[encoded data removed]"
          },
          "metadata": {
            "needs_background": "light"
          }
        }
      ],
      "source": [
        "# education and loan status\n",
        "sns.countplot(x='Education', hue='Loan_Status', data=df)"
      ]
    },
    {
      "cell_type": "code",
      "execution_count": null,
      "metadata": {
        "colab": {
          "base_uri": "https://localhost:8080/",
          "height": 299
        },
        "id": "8u2GNYaZaCTa",
        "outputId": "e850d807-999d-4185-f162-e06797fbb3b5"
      },
      "outputs": [
        {
          "output_type": "execute_result",
          "data": {
            "text/plain": [
              "<matplotlib.axes._subplots.AxesSubplot at 0x7f33f9495590>"
            ]
          },
          "metadata": {},
          "execution_count": 22
        },
        {
          "output_type": "display_data",
          "data": {
            "text/plain": [
              "<Figure size 432x288 with 1 Axes>"
            ],
            "image/png": "[encoded data removed]"
          },
          "metadata": {
            "needs_background": "light"
          }
        }
      ],
      "source": [
        "# marital status & loan status\n",
        "sns.countplot(x='Married', hue='Loan_Status',data=df)"
      ]
    },
    {
      "cell_type": "code",
      "execution_count": null,
      "metadata": {
        "colab": {
          "base_uri": "https://localhost:8080/",
          "height": 296
        },
        "id": "IH3HQO70aF8H",
        "outputId": "0e100aa1-4aee-447a-ad10-4bd12dd5f10d"
      },
      "outputs": [
        {
          "output_type": "execute_result",
          "data": {
            "text/plain": [
              "<matplotlib.axes._subplots.AxesSubplot at 0x7f33f9403bd0>"
            ]
          },
          "metadata": {},
          "execution_count": 23
        },
        {
          "output_type": "display_data",
          "data": {
            "text/plain": [
              "<Figure size 432x288 with 1 Axes>"
            ],
            "image/png": "[encoded data removed]"
          },
          "metadata": {
            "needs_background": "light"
          }
        }
      ],
      "source": [
        "# gender status & loan status\n",
        "sns.countplot(x='Gender', hue='Loan_Status',data=df)"
      ]
    },
    {
      "cell_type": "code",
      "execution_count": null,
      "metadata": {
        "id": "PsiyeoBJ8mlq"
      },
      "outputs": [],
      "source": [
        "#  outliers in LoanAmount column, imputed the missing values with median as median doesn't have any effect on outliers\n",
        "df['LoanAmount'].fillna(df['LoanAmount'].median(), inplace=True)"
      ]
    },
    {
      "cell_type": "code",
      "execution_count": null,
      "metadata": {
        "colab": {
          "base_uri": "https://localhost:8080/"
        },
        "id": "LO044VF8BQ1y",
        "outputId": "d3732647-d470-4a37-fc30-c30eb5db138a"
      },
      "outputs": [
        {
          "output_type": "execute_result",
          "data": {
            "text/plain": [
              "Loan_ID              0\n",
              "Gender               0\n",
              "Married              0\n",
              "Dependents           0\n",
              "Education            0\n",
              "Self_Employed        0\n",
              "ApplicantIncome      0\n",
              "CoapplicantIncome    0\n",
              "LoanAmount           0\n",
              "Loan_Amount_Term     0\n",
              "Credit_History       0\n",
              "Property_Area        0\n",
              "Loan_Status          0\n",
              "dtype: int64"
            ]
          },
          "metadata": {},
          "execution_count": 25
        }
      ],
      "source": [
        "df.isnull().sum()   #no null values now"
      ]
    },
    {
      "cell_type": "code",
      "execution_count": null,
      "metadata": {
        "id": "4zKWfkEs8poo"
      },
      "outputs": [],
      "source": [
        "#HANDLING CATEGORICAL DATA\n",
        "df['Gender'] = df['Gender'].map({'Male':0, 'Female':1})\n",
        "df['Married'] = df['Married'].map({'No':0, 'Yes':1})\n",
        "df['Dependents'] = df['Dependents'].map({'0':0,'1':1,'2':2,'3+':3})\n",
        "df['Education'] = df['Education'].map({'Graduate':1, 'Not Graduate':0})\n",
        "df['Self_Employed'] = df['Self_Employed'].map({'No':0, 'Yes':1})\n",
        "df['Credit_History'] = df['Credit_History'].map({1.0:1, 0.0:0})\n",
        "df['Property_Area'] = df['Property_Area'].map({'Rural':0, 'Semiurban':1, 'Urban':2})\n",
        "df['Loan_Status'] = df['Loan_Status'].map({'N':0,'Y':1})"
      ]
    },
    {
      "cell_type": "code",
      "execution_count": null,
      "metadata": {
        "colab": {
          "base_uri": "https://localhost:8080/",
          "height": 1000
        },
        "id": "O_U8Bjce_x5h",
        "outputId": "584f70d4-e347-4546-b107-f73593604491"
      },
      "outputs": [
        {
          "output_type": "execute_result",
          "data": {
            "text/plain": [
              "     Loan_ID  Gender  Married  Dependents  Education  Self_Employed  \\\n",
              "0   LP001002       0        0           0          1              0   \n",
              "1   LP001003       0        1           1          1              0   \n",
              "2   LP001005       0        1           0          1              1   \n",
              "3   LP001006       0        1           0          0              0   \n",
              "4   LP001008       0        0           0          1              0   \n",
              "5   LP001011       0        1           2          1              1   \n",
              "6   LP001013       0        1           0          0              0   \n",
              "7   LP001014       0        1           3          1              0   \n",
              "8   LP001018       0        1           2          1              0   \n",
              "9   LP001020       0        1           1          1              0   \n",
              "10  LP001024       0        1           2          1              0   \n",
              "11  LP001027       0        1           2          1              0   \n",
              "12  LP001028       0        1           2          1              0   \n",
              "13  LP001029       0        0           0          1              0   \n",
              "14  LP001030       0        1           2          1              0   \n",
              "15  LP001032       0        0           0          1              0   \n",
              "16  LP001034       0        0           1          0              0   \n",
              "17  LP001036       1        0           0          1              0   \n",
              "18  LP001038       0        1           0          0              0   \n",
              "19  LP001041       0        1           0          1              0   \n",
              "20  LP001043       0        1           0          0              0   \n",
              "21  LP001046       0        1           1          1              0   \n",
              "22  LP001047       0        1           0          0              0   \n",
              "23  LP001050       0        1           2          0              0   \n",
              "24  LP001052       0        1           1          1              0   \n",
              "25  LP001066       0        1           0          1              1   \n",
              "26  LP001068       0        1           0          1              0   \n",
              "27  LP001073       0        1           2          0              0   \n",
              "28  LP001086       0        0           0          0              0   \n",
              "29  LP001087       1        0           2          1              0   \n",
              "\n",
              "    ApplicantIncome  CoapplicantIncome  LoanAmount  Loan_Amount_Term  \\\n",
              "0              5849                0.0       128.0             360.0   \n",
              "1              4583             1508.0       128.0             360.0   \n",
              "2              3000                0.0        66.0             360.0   \n",
              "3              2583             2358.0       120.0             360.0   \n",
              "4              6000                0.0       141.0             360.0   \n",
              "5              5417             4196.0       267.0             360.0   \n",
              "6              2333             1516.0        95.0             360.0   \n",
              "7              3036             2504.0       158.0             360.0   \n",
              "8              4006             1526.0       168.0             360.0   \n",
              "9             12841            10968.0       349.0             360.0   \n",
              "10             3200              700.0        70.0             360.0   \n",
              "11             2500             1840.0       109.0             360.0   \n",
              "12             3073             8106.0       200.0             360.0   \n",
              "13             1853             2840.0       114.0             360.0   \n",
              "14             1299             1086.0        17.0             120.0   \n",
              "15             4950                0.0       125.0             360.0   \n",
              "16             3596                0.0       100.0             240.0   \n",
              "17             3510                0.0        76.0             360.0   \n",
              "18             4887                0.0       133.0             360.0   \n",
              "19             2600             3500.0       115.0             360.0   \n",
              "20             7660                0.0       104.0             360.0   \n",
              "21             5955             5625.0       315.0             360.0   \n",
              "22             2600             1911.0       116.0             360.0   \n",
              "23             3365             1917.0       112.0             360.0   \n",
              "24             3717             2925.0       151.0             360.0   \n",
              "25             9560                0.0       191.0             360.0   \n",
              "26             2799             2253.0       122.0             360.0   \n",
              "27             4226             1040.0       110.0             360.0   \n",
              "28             1442                0.0        35.0             360.0   \n",
              "29             3750             2083.0       120.0             360.0   \n",
              "\n",
              "    Credit_History  Property_Area  Loan_Status  \n",
              "0                1              2            1  \n",
              "1                1              0            0  \n",
              "2                1              2            1  \n",
              "3                1              2            1  \n",
              "4                1              2            1  \n",
              "5                1              2            1  \n",
              "6                1              2            1  \n",
              "7                0              1            0  \n",
              "8                1              2            1  \n",
              "9                1              1            0  \n",
              "10               1              2            1  \n",
              "11               1              2            1  \n",
              "12               1              2            1  \n",
              "13               1              0            0  \n",
              "14               1              2            1  \n",
              "15               1              2            1  \n",
              "16               1              2            1  \n",
              "17               0              2            0  \n",
              "18               1              0            0  \n",
              "19               1              2            1  \n",
              "20               0              2            0  \n",
              "21               1              2            1  \n",
              "22               0              1            0  \n",
              "23               0              0            0  \n",
              "24               1              1            0  \n",
              "25               1              1            1  \n",
              "26               1              1            1  \n",
              "27               1              2            1  \n",
              "28               1              2            0  \n",
              "29               1              1            1  "
            ],
            "text/html": [
              "\n",
              "  <div id=\"df-f9cefda7-c3b7-4740-b9b6-5e2c1e3ac439\">\n",
              "    <div class=\"colab-df-container\">\n",
              "      <div>\n",
              "<style scoped>\n",
              "    .dataframe tbody tr th:only-of-type {\n",
              "        vertical-align: middle;\n",
              "    }\n",
              "\n",
              "    .dataframe tbody tr th {\n",
              "        vertical-align: top;\n",
              "    }\n",
              "\n",
              "    .dataframe thead th {\n",
              "        text-align: right;\n",
              "    }\n",
              "</style>\n",
              "<table border=\"1\" class=\"dataframe\">\n",
              "  <thead>\n",
              "    <tr style=\"text-align: right;\">\n",
              "      <th></th>\n",
              "      <th>Loan_ID</th>\n",
              "      <th>Gender</th>\n",
              "      <th>Married</th>\n",
              "      <th>Dependents</th>\n",
              "      <th>Education</th>\n",
              "      <th>Self_Employed</th>\n",
              "      <th>ApplicantIncome</th>\n",
              "      <th>CoapplicantIncome</th>\n",
              "      <th>LoanAmount</th>\n",
              "      <th>Loan_Amount_Term</th>\n",
              "      <th>Credit_History</th>\n",
              "      <th>Property_Area</th>\n",
              "      <th>Loan_Status</th>\n",
              "    </tr>\n",
              "  </thead>\n",
              "  <tbody>\n",
              "    <tr>\n",
              "      <th>0</th>\n",
              "      <td>LP001002</td>\n",
              "      <td>0</td>\n",
              "      <td>0</td>\n",
              "      <td>0</td>\n",
              "      <td>1</td>\n",
              "      <td>0</td>\n",
              "      <td>5849</td>\n",
              "      <td>0.0</td>\n",
              "      <td>128.0</td>\n",
              "      <td>360.0</td>\n",
              "      <td>1</td>\n",
              "      <td>2</td>\n",
              "      <td>1</td>\n",
              "    </tr>\n",
              "    <tr>\n",
              "      <th>1</th>\n",
              "      <td>LP001003</td>\n",
              "      <td>0</td>\n",
              "      <td>1</td>\n",
              "      <td>1</td>\n",
              "      <td>1</td>\n",
              "      <td>0</td>\n",
              "      <td>4583</td>\n",
              "      <td>1508.0</td>\n",
              "      <td>128.0</td>\n",
              "      <td>360.0</td>\n",
              "      <td>1</td>\n",
              "      <td>0</td>\n",
              "      <td>0</td>\n",
              "    </tr>\n",
              "    <tr>\n",
              "      <th>2</th>\n",
              "      <td>LP001005</td>\n",
              "      <td>0</td>\n",
              "      <td>1</td>\n",
              "      <td>0</td>\n",
              "      <td>1</td>\n",
              "      <td>1</td>\n",
              "      <td>3000</td>\n",
              "      <td>0.0</td>\n",
              "      <td>66.0</td>\n",
              "      <td>360.0</td>\n",
              "      <td>1</td>\n",
              "      <td>2</td>\n",
              "      <td>1</td>\n",
              "    </tr>\n",
              "    <tr>\n",
              "      <th>3</th>\n",
              "      <td>LP001006</td>\n",
              "      <td>0</td>\n",
              "      <td>1</td>\n",
              "      <td>0</td>\n",
              "      <td>0</td>\n",
              "      <td>0</td>\n",
              "      <td>2583</td>\n",
              "      <td>2358.0</td>\n",
              "      <td>120.0</td>\n",
              "      <td>360.0</td>\n",
              "      <td>1</td>\n",
              "      <td>2</td>\n",
              "      <td>1</td>\n",
              "    </tr>\n",
              "    <tr>\n",
              "      <th>4</th>\n",
              "      <td>LP001008</td>\n",
              "      <td>0</td>\n",
              "      <td>0</td>\n",
              "      <td>0</td>\n",
              "      <td>1</td>\n",
              "      <td>0</td>\n",
              "      <td>6000</td>\n",
              "      <td>0.0</td>\n",
              "      <td>141.0</td>\n",
              "      <td>360.0</td>\n",
              "      <td>1</td>\n",
              "      <td>2</td>\n",
              "      <td>1</td>\n",
              "    </tr>\n",
              "    <tr>\n",
              "      <th>5</th>\n",
              "      <td>LP001011</td>\n",
              "      <td>0</td>\n",
              "      <td>1</td>\n",
              "      <td>2</td>\n",
              "      <td>1</td>\n",
              "      <td>1</td>\n",
              "      <td>5417</td>\n",
              "      <td>4196.0</td>\n",
              "      <td>267.0</td>\n",
              "      <td>360.0</td>\n",
              "      <td>1</td>\n",
              "      <td>2</td>\n",
              "      <td>1</td>\n",
              "    </tr>\n",
              "    <tr>\n",
              "      <th>6</th>\n",
              "      <td>LP001013</td>\n",
              "      <td>0</td>\n",
              "      <td>1</td>\n",
              "      <td>0</td>\n",
              "      <td>0</td>\n",
              "      <td>0</td>\n",
              "      <td>2333</td>\n",
              "      <td>1516.0</td>\n",
              "      <td>95.0</td>\n",
              "      <td>360.0</td>\n",
              "      <td>1</td>\n",
              "      <td>2</td>\n",
              "      <td>1</td>\n",
              "    </tr>\n",
              "    <tr>\n",
              "      <th>7</th>\n",
              "      <td>LP001014</td>\n",
              "      <td>0</td>\n",
              "      <td>1</td>\n",
              "      <td>3</td>\n",
              "      <td>1</td>\n",
              "      <td>0</td>\n",
              "      <td>3036</td>\n",
              "      <td>2504.0</td>\n",
              "      <td>158.0</td>\n",
              "      <td>360.0</td>\n",
              "      <td>0</td>\n",
              "      <td>1</td>\n",
              "      <td>0</td>\n",
              "    </tr>\n",
              "    <tr>\n",
              "      <th>8</th>\n",
              "      <td>LP001018</td>\n",
              "      <td>0</td>\n",
              "      <td>1</td>\n",
              "      <td>2</td>\n",
              "      <td>1</td>\n",
              "      <td>0</td>\n",
              "      <td>4006</td>\n",
              "      <td>1526.0</td>\n",
              "      <td>168.0</td>\n",
              "      <td>360.0</td>\n",
              "      <td>1</td>\n",
              "      <td>2</td>\n",
              "      <td>1</td>\n",
              "    </tr>\n",
              "    <tr>\n",
              "      <th>9</th>\n",
              "      <td>LP001020</td>\n",
              "      <td>0</td>\n",
              "      <td>1</td>\n",
              "      <td>1</td>\n",
              "      <td>1</td>\n",
              "      <td>0</td>\n",
              "      <td>12841</td>\n",
              "      <td>10968.0</td>\n",
              "      <td>349.0</td>\n",
              "      <td>360.0</td>\n",
              "      <td>1</td>\n",
              "      <td>1</td>\n",
              "      <td>0</td>\n",
              "    </tr>\n",
              "    <tr>\n",
              "      <th>10</th>\n",
              "      <td>LP001024</td>\n",
              "      <td>0</td>\n",
              "      <td>1</td>\n",
              "      <td>2</td>\n",
              "      <td>1</td>\n",
              "      <td>0</td>\n",
              "      <td>3200</td>\n",
              "      <td>700.0</td>\n",
              "      <td>70.0</td>\n",
              "      <td>360.0</td>\n",
              "      <td>1</td>\n",
              "      <td>2</td>\n",
              "      <td>1</td>\n",
              "    </tr>\n",
              "    <tr>\n",
              "      <th>11</th>\n",
              "      <td>LP001027</td>\n",
              "      <td>0</td>\n",
              "      <td>1</td>\n",
              "      <td>2</td>\n",
              "      <td>1</td>\n",
              "      <td>0</td>\n",
              "      <td>2500</td>\n",
              "      <td>1840.0</td>\n",
              "      <td>109.0</td>\n",
              "      <td>360.0</td>\n",
              "      <td>1</td>\n",
              "      <td>2</td>\n",
              "      <td>1</td>\n",
              "    </tr>\n",
              "    <tr>\n",
              "      <th>12</th>\n",
              "      <td>LP001028</td>\n",
              "      <td>0</td>\n",
              "      <td>1</td>\n",
              "      <td>2</td>\n",
              "      <td>1</td>\n",
              "      <td>0</td>\n",
              "      <td>3073</td>\n",
              "      <td>8106.0</td>\n",
              "      <td>200.0</td>\n",
              "      <td>360.0</td>\n",
              "      <td>1</td>\n",
              "      <td>2</td>\n",
              "      <td>1</td>\n",
              "    </tr>\n",
              "    <tr>\n",
              "      <th>13</th>\n",
              "      <td>LP001029</td>\n",
              "      <td>0</td>\n",
              "      <td>0</td>\n",
              "      <td>0</td>\n",
              "      <td>1</td>\n",
              "      <td>0</td>\n",
              "      <td>1853</td>\n",
              "      <td>2840.0</td>\n",
              "      <td>114.0</td>\n",
              "      <td>360.0</td>\n",
              "      <td>1</td>\n",
              "      <td>0</td>\n",
              "      <td>0</td>\n",
              "    </tr>\n",
              "    <tr>\n",
              "      <th>14</th>\n",
              "      <td>LP001030</td>\n",
              "      <td>0</td>\n",
              "      <td>1</td>\n",
              "      <td>2</td>\n",
              "      <td>1</td>\n",
              "      <td>0</td>\n",
              "      <td>1299</td>\n",
              "      <td>1086.0</td>\n",
              "      <td>17.0</td>\n",
              "      <td>120.0</td>\n",
              "      <td>1</td>\n",
              "      <td>2</td>\n",
              "      <td>1</td>\n",
              "    </tr>\n",
              "    <tr>\n",
              "      <th>15</th>\n",
              "      <td>LP001032</td>\n",
              "      <td>0</td>\n",
              "      <td>0</td>\n",
              "      <td>0</td>\n",
              "      <td>1</td>\n",
              "      <td>0</td>\n",
              "      <td>4950</td>\n",
              "      <td>0.0</td>\n",
              "      <td>125.0</td>\n",
              "      <td>360.0</td>\n",
              "      <td>1</td>\n",
              "      <td>2</td>\n",
              "      <td>1</td>\n",
              "    </tr>\n",
              "    <tr>\n",
              "      <th>16</th>\n",
              "      <td>LP001034</td>\n",
              "      <td>0</td>\n",
              "      <td>0</td>\n",
              "      <td>1</td>\n",
              "      <td>0</td>\n",
              "      <td>0</td>\n",
              "      <td>3596</td>\n",
              "      <td>0.0</td>\n",
              "      <td>100.0</td>\n",
              "      <td>240.0</td>\n",
              "      <td>1</td>\n",
              "      <td>2</td>\n",
              "      <td>1</td>\n",
              "    </tr>\n",
              "    <tr>\n",
              "      <th>17</th>\n",
              "      <td>LP001036</td>\n",
              "      <td>1</td>\n",
              "      <td>0</td>\n",
              "      <td>0</td>\n",
              "      <td>1</td>\n",
              "      <td>0</td>\n",
              "      <td>3510</td>\n",
              "      <td>0.0</td>\n",
              "      <td>76.0</td>\n",
              "      <td>360.0</td>\n",
              "      <td>0</td>\n",
              "      <td>2</td>\n",
              "      <td>0</td>\n",
              "    </tr>\n",
              "    <tr>\n",
              "      <th>18</th>\n",
              "      <td>LP001038</td>\n",
              "      <td>0</td>\n",
              "      <td>1</td>\n",
              "      <td>0</td>\n",
              "      <td>0</td>\n",
              "      <td>0</td>\n",
              "      <td>4887</td>\n",
              "      <td>0.0</td>\n",
              "      <td>133.0</td>\n",
              "      <td>360.0</td>\n",
              "      <td>1</td>\n",
              "      <td>0</td>\n",
              "      <td>0</td>\n",
              "    </tr>\n",
              "    <tr>\n",
              "      <th>19</th>\n",
              "      <td>LP001041</td>\n",
              "      <td>0</td>\n",
              "      <td>1</td>\n",
              "      <td>0</td>\n",
              "      <td>1</td>\n",
              "      <td>0</td>\n",
              "      <td>2600</td>\n",
              "      <td>3500.0</td>\n",
              "      <td>115.0</td>\n",
              "      <td>360.0</td>\n",
              "      <td>1</td>\n",
              "      <td>2</td>\n",
              "      <td>1</td>\n",
              "    </tr>\n",
              "    <tr>\n",
              "      <th>20</th>\n",
              "      <td>LP001043</td>\n",
              "      <td>0</td>\n",
              "      <td>1</td>\n",
              "      <td>0</td>\n",
              "      <td>0</td>\n",
              "      <td>0</td>\n",
              "      <td>7660</td>\n",
              "      <td>0.0</td>\n",
              "      <td>104.0</td>\n",
              "      <td>360.0</td>\n",
              "      <td>0</td>\n",
              "      <td>2</td>\n",
              "      <td>0</td>\n",
              "    </tr>\n",
              "    <tr>\n",
              "      <th>21</th>\n",
              "      <td>LP001046</td>\n",
              "      <td>0</td>\n",
              "      <td>1</td>\n",
              "      <td>1</td>\n",
              "      <td>1</td>\n",
              "      <td>0</td>\n",
              "      <td>5955</td>\n",
              "      <td>5625.0</td>\n",
              "      <td>315.0</td>\n",
              "      <td>360.0</td>\n",
              "      <td>1</td>\n",
              "      <td>2</td>\n",
              "      <td>1</td>\n",
              "    </tr>\n",
              "    <tr>\n",
              "      <th>22</th>\n",
              "      <td>LP001047</td>\n",
              "      <td>0</td>\n",
              "      <td>1</td>\n",
              "      <td>0</td>\n",
              "      <td>0</td>\n",
              "      <td>0</td>\n",
              "      <td>2600</td>\n",
              "      <td>1911.0</td>\n",
              "      <td>116.0</td>\n",
              "      <td>360.0</td>\n",
              "      <td>0</td>\n",
              "      <td>1</td>\n",
              "      <td>0</td>\n",
              "    </tr>\n",
              "    <tr>\n",
              "      <th>23</th>\n",
              "      <td>LP001050</td>\n",
              "      <td>0</td>\n",
              "      <td>1</td>\n",
              "      <td>2</td>\n",
              "      <td>0</td>\n",
              "      <td>0</td>\n",
              "      <td>3365</td>\n",
              "      <td>1917.0</td>\n",
              "      <td>112.0</td>\n",
              "      <td>360.0</td>\n",
              "      <td>0</td>\n",
              "      <td>0</td>\n",
              "      <td>0</td>\n",
              "    </tr>\n",
              "    <tr>\n",
              "      <th>24</th>\n",
              "      <td>LP001052</td>\n",
              "      <td>0</td>\n",
              "      <td>1</td>\n",
              "      <td>1</td>\n",
              "      <td>1</td>\n",
              "      <td>0</td>\n",
              "      <td>3717</td>\n",
              "      <td>2925.0</td>\n",
              "      <td>151.0</td>\n",
              "      <td>360.0</td>\n",
              "      <td>1</td>\n",
              "      <td>1</td>\n",
              "      <td>0</td>\n",
              "    </tr>\n",
              "    <tr>\n",
              "      <th>25</th>\n",
              "      <td>LP001066</td>\n",
              "      <td>0</td>\n",
              "      <td>1</td>\n",
              "      <td>0</td>\n",
              "      <td>1</td>\n",
              "      <td>1</td>\n",
              "      <td>9560</td>\n",
              "      <td>0.0</td>\n",
              "      <td>191.0</td>\n",
              "      <td>360.0</td>\n",
              "      <td>1</td>\n",
              "      <td>1</td>\n",
              "      <td>1</td>\n",
              "    </tr>\n",
              "    <tr>\n",
              "      <th>26</th>\n",
              "      <td>LP001068</td>\n",
              "      <td>0</td>\n",
              "      <td>1</td>\n",
              "      <td>0</td>\n",
              "      <td>1</td>\n",
              "      <td>0</td>\n",
              "      <td>2799</td>\n",
              "      <td>2253.0</td>\n",
              "      <td>122.0</td>\n",
              "      <td>360.0</td>\n",
              "      <td>1</td>\n",
              "      <td>1</td>\n",
              "      <td>1</td>\n",
              "    </tr>\n",
              "    <tr>\n",
              "      <th>27</th>\n",
              "      <td>LP001073</td>\n",
              "      <td>0</td>\n",
              "      <td>1</td>\n",
              "      <td>2</td>\n",
              "      <td>0</td>\n",
              "      <td>0</td>\n",
              "      <td>4226</td>\n",
              "      <td>1040.0</td>\n",
              "      <td>110.0</td>\n",
              "      <td>360.0</td>\n",
              "      <td>1</td>\n",
              "      <td>2</td>\n",
              "      <td>1</td>\n",
              "    </tr>\n",
              "    <tr>\n",
              "      <th>28</th>\n",
              "      <td>LP001086</td>\n",
              "      <td>0</td>\n",
              "      <td>0</td>\n",
              "      <td>0</td>\n",
              "      <td>0</td>\n",
              "      <td>0</td>\n",
              "      <td>1442</td>\n",
              "      <td>0.0</td>\n",
              "      <td>35.0</td>\n",
              "      <td>360.0</td>\n",
              "      <td>1</td>\n",
              "      <td>2</td>\n",
              "      <td>0</td>\n",
              "    </tr>\n",
              "    <tr>\n",
              "      <th>29</th>\n",
              "      <td>LP001087</td>\n",
              "      <td>1</td>\n",
              "      <td>0</td>\n",
              "      <td>2</td>\n",
              "      <td>1</td>\n",
              "      <td>0</td>\n",
              "      <td>3750</td>\n",
              "      <td>2083.0</td>\n",
              "      <td>120.0</td>\n",
              "      <td>360.0</td>\n",
              "      <td>1</td>\n",
              "      <td>1</td>\n",
              "      <td>1</td>\n",
              "    </tr>\n",
              "  </tbody>\n",
              "</table>\n",
              "</div>\n",
              "      <button class=\"colab-df-convert\" onclick=\"convertToInteractive('df-f9cefda7-c3b7-4740-b9b6-5e2c1e3ac439')\"\n",
              "              title=\"Convert this dataframe to an interactive table.\"\n",
              "              style=\"display:none;\">\n",
              "        \n",
              "  <svg xmlns=\"http://www.w3.org/2000/svg\" height=\"24px\"viewBox=\"0 0 24 24\"\n",
              "       width=\"24px\">\n",
              "    <path d=\"M0 0h24v24H0V0z\" fill=\"none\"/>\n",
              "    <path d=\"M18.56 5.44l.94 2.06.94-2.06 2.06-.94-2.06-.94-.94-2.06-.94 2.06-2.06.94zm-11 1L8.5 8.5l.94-2.06 2.06-.94-2.06-.94L8.5 2.5l-.94 2.06-2.06.94zm10 10l.94 2.06.94-2.06 2.06-.94-2.06-.94-.94-2.06-.94 2.06-2.06.94z\"/><path d=\"M17.41 7.96l-1.37-1.37c-.4-.4-.92-.59-1.43-.59-.52 0-1.04.2-1.43.59L10.3 9.45l-7.72 7.72c-.78.78-.78 2.05 0 2.83L4 21.41c.39.39.9.59 1.41.59.51 0 1.02-.2 1.41-.59l7.78-7.78 2.81-2.81c.8-.78.8-2.07 0-2.86zM5.41 20L4 18.59l7.72-7.72 1.47 1.35L5.41 20z\"/>\n",
              "  </svg>\n",
              "      </button>\n",
              "      \n",
              "  <style>\n",
              "    .colab-df-container {\n",
              "      display:flex;\n",
              "      flex-wrap:wrap;\n",
              "      gap: 12px;\n",
              "    }\n",
              "\n",
              "    .colab-df-convert {\n",
              "      background-color: #E8F0FE;\n",
              "      border: none;\n",
              "      border-radius: 50%;\n",
              "      cursor: pointer;\n",
              "      display: none;\n",
              "      fill: #1967D2;\n",
              "      height: 32px;\n",
              "      padding: 0 0 0 0;\n",
              "      width: 32px;\n",
              "    }\n",
              "\n",
              "    .colab-df-convert:hover {\n",
              "      background-color: #E2EBFA;\n",
              "      box-shadow: 0px 1px 2px rgba(60, 64, 67, 0.3), 0px 1px 3px 1px rgba(60, 64, 67, 0.15);\n",
              "      fill: #174EA6;\n",
              "    }\n",
              "\n",
              "    [theme=dark] .colab-df-convert {\n",
              "      background-color: #3B4455;\n",
              "      fill: #D2E3FC;\n",
              "    }\n",
              "\n",
              "    [theme=dark] .colab-df-convert:hover {\n",
              "      background-color: #434B5C;\n",
              "      box-shadow: 0px 1px 3px 1px rgba(0, 0, 0, 0.15);\n",
              "      filter: drop-shadow(0px 1px 2px rgba(0, 0, 0, 0.3));\n",
              "      fill: #FFFFFF;\n",
              "    }\n",
              "  </style>\n",
              "\n",
              "      <script>\n",
              "        const buttonEl =\n",
              "          document.querySelector('#df-f9cefda7-c3b7-4740-b9b6-5e2c1e3ac439 button.colab-df-convert');\n",
              "        buttonEl.style.display =\n",
              "          google.colab.kernel.accessAllowed ? 'block' : 'none';\n",
              "\n",
              "        async function convertToInteractive(key) {\n",
              "          const element = document.querySelector('#df-f9cefda7-c3b7-4740-b9b6-5e2c1e3ac439');\n",
              "          const dataTable =\n",
              "            await google.colab.kernel.invokeFunction('convertToInteractive',\n",
              "                                                     [key], {});\n",
              "          if (!dataTable) return;\n",
              "\n",
              "          const docLinkHtml = 'Like what you see? Visit the ' +\n",
              "            '<a target=\"_blank\" href=https://colab.research.google.com/notebooks/data_table.ipynb>data table notebook</a>'\n",
              "            + ' to learn more about interactive tables.';\n",
              "          element.innerHTML = '';\n",
              "          dataTable['output_type'] = 'display_data';\n",
              "          await google.colab.output.renderOutput(dataTable, element);\n",
              "          const docLink = document.createElement('div');\n",
              "          docLink.innerHTML = docLinkHtml;\n",
              "          element.appendChild(docLink);\n",
              "        }\n",
              "      </script>\n",
              "    </div>\n",
              "  </div>\n",
              "  "
            ]
          },
          "metadata": {},
          "execution_count": 27
        }
      ],
      "source": [
        "df.head(30)"
      ]
    },
    {
      "cell_type": "code",
      "execution_count": null,
      "metadata": {
        "id": "AGQJY7U38wfO"
      },
      "outputs": [],
      "source": [
        "# 2 dataframes: one with loans and one without loans\n",
        "loans = df[df['Loan_Status'] == 1].copy()\n",
        "no_loans = df[df['Loan_Status'] == 0].copy()"
      ]
    },
    {
      "cell_type": "code",
      "execution_count": null,
      "metadata": {
        "colab": {
          "base_uri": "https://localhost:8080/",
          "height": 426
        },
        "id": "Xr_fxXIKZsa-",
        "outputId": "d57e4992-35a6-4cd9-e1eb-c0d453e0dc8f"
      },
      "outputs": [
        {
          "output_type": "execute_result",
          "data": {
            "text/plain": [
              "                   count         mean          std    min     25%     50%  \\\n",
              "Gender             422.0     0.177725     0.382735    0.0     0.0     0.0   \n",
              "Married            422.0     0.682464     0.466070    0.0     0.0     1.0   \n",
              "Dependents         422.0     0.751185     1.009309    0.0     0.0     0.0   \n",
              "Education          422.0     0.805687     0.396140    0.0     1.0     1.0   \n",
              "Self_Employed      422.0     0.132701     0.339654    0.0     0.0     0.0   \n",
              "ApplicantIncome    422.0  5384.068720  5765.441615  210.0  2877.5  3812.5   \n",
              "CoapplicantIncome  422.0  1504.516398  1924.754855    0.0     0.0  1239.5   \n",
              "LoanAmount         422.0   143.869668    84.400468   17.0   100.0   128.0   \n",
              "Loan_Amount_Term   422.0   341.431280    62.697242   12.0   360.0   360.0   \n",
              "Credit_History     422.0     0.983412     0.127872    0.0     1.0     1.0   \n",
              "Property_Area      422.0     1.054502     0.757773    0.0     0.0     1.0   \n",
              "Loan_Status        422.0     1.000000     0.000000    1.0     1.0     1.0   \n",
              "\n",
              "                       75%      max  \n",
              "Gender                0.00      1.0  \n",
              "Married               1.00      1.0  \n",
              "Dependents            2.00      3.0  \n",
              "Education             1.00      1.0  \n",
              "Self_Employed         0.00      1.0  \n",
              "ApplicantIncome    5771.50  63337.0  \n",
              "CoapplicantIncome  2297.25  20000.0  \n",
              "LoanAmount          160.00    700.0  \n",
              "Loan_Amount_Term    360.00    480.0  \n",
              "Credit_History        1.00      1.0  \n",
              "Property_Area         2.00      2.0  \n",
              "Loan_Status           1.00      1.0  "
            ],
            "text/html": [
              "\n",
              "  <div id=\"df-50a690e6-9767-4086-a422-cfe85ac0de2f\">\n",
              "    <div class=\"colab-df-container\">\n",
              "      <div>\n",
              "<style scoped>\n",
              "    .dataframe tbody tr th:only-of-type {\n",
              "        vertical-align: middle;\n",
              "    }\n",
              "\n",
              "    .dataframe tbody tr th {\n",
              "        vertical-align: top;\n",
              "    }\n",
              "\n",
              "    .dataframe thead th {\n",
              "        text-align: right;\n",
              "    }\n",
              "</style>\n",
              "<table border=\"1\" class=\"dataframe\">\n",
              "  <thead>\n",
              "    <tr style=\"text-align: right;\">\n",
              "      <th></th>\n",
              "      <th>count</th>\n",
              "      <th>mean</th>\n",
              "      <th>std</th>\n",
              "      <th>min</th>\n",
              "      <th>25%</th>\n",
              "      <th>50%</th>\n",
              "      <th>75%</th>\n",
              "      <th>max</th>\n",
              "    </tr>\n",
              "  </thead>\n",
              "  <tbody>\n",
              "    <tr>\n",
              "      <th>Gender</th>\n",
              "      <td>422.0</td>\n",
              "      <td>0.177725</td>\n",
              "      <td>0.382735</td>\n",
              "      <td>0.0</td>\n",
              "      <td>0.0</td>\n",
              "      <td>0.0</td>\n",
              "      <td>0.00</td>\n",
              "      <td>1.0</td>\n",
              "    </tr>\n",
              "    <tr>\n",
              "      <th>Married</th>\n",
              "      <td>422.0</td>\n",
              "      <td>0.682464</td>\n",
              "      <td>0.466070</td>\n",
              "      <td>0.0</td>\n",
              "      <td>0.0</td>\n",
              "      <td>1.0</td>\n",
              "      <td>1.00</td>\n",
              "      <td>1.0</td>\n",
              "    </tr>\n",
              "    <tr>\n",
              "      <th>Dependents</th>\n",
              "      <td>422.0</td>\n",
              "      <td>0.751185</td>\n",
              "      <td>1.009309</td>\n",
              "      <td>0.0</td>\n",
              "      <td>0.0</td>\n",
              "      <td>0.0</td>\n",
              "      <td>2.00</td>\n",
              "      <td>3.0</td>\n",
              "    </tr>\n",
              "    <tr>\n",
              "      <th>Education</th>\n",
              "      <td>422.0</td>\n",
              "      <td>0.805687</td>\n",
              "      <td>0.396140</td>\n",
              "      <td>0.0</td>\n",
              "      <td>1.0</td>\n",
              "      <td>1.0</td>\n",
              "      <td>1.00</td>\n",
              "      <td>1.0</td>\n",
              "    </tr>\n",
              "    <tr>\n",
              "      <th>Self_Employed</th>\n",
              "      <td>422.0</td>\n",
              "      <td>0.132701</td>\n",
              "      <td>0.339654</td>\n",
              "      <td>0.0</td>\n",
              "      <td>0.0</td>\n",
              "      <td>0.0</td>\n",
              "      <td>0.00</td>\n",
              "      <td>1.0</td>\n",
              "    </tr>\n",
              "    <tr>\n",
              "      <th>ApplicantIncome</th>\n",
              "      <td>422.0</td>\n",
              "      <td>5384.068720</td>\n",
              "      <td>5765.441615</td>\n",
              "      <td>210.0</td>\n",
              "      <td>2877.5</td>\n",
              "      <td>3812.5</td>\n",
              "      <td>5771.50</td>\n",
              "      <td>63337.0</td>\n",
              "    </tr>\n",
              "    <tr>\n",
              "      <th>CoapplicantIncome</th>\n",
              "      <td>422.0</td>\n",
              "      <td>1504.516398</td>\n",
              "      <td>1924.754855</td>\n",
              "      <td>0.0</td>\n",
              "      <td>0.0</td>\n",
              "      <td>1239.5</td>\n",
              "      <td>2297.25</td>\n",
              "      <td>20000.0</td>\n",
              "    </tr>\n",
              "    <tr>\n",
              "      <th>LoanAmount</th>\n",
              "      <td>422.0</td>\n",
              "      <td>143.869668</td>\n",
              "      <td>84.400468</td>\n",
              "      <td>17.0</td>\n",
              "      <td>100.0</td>\n",
              "      <td>128.0</td>\n",
              "      <td>160.00</td>\n",
              "      <td>700.0</td>\n",
              "    </tr>\n",
              "    <tr>\n",
              "      <th>Loan_Amount_Term</th>\n",
              "      <td>422.0</td>\n",
              "      <td>341.431280</td>\n",
              "      <td>62.697242</td>\n",
              "      <td>12.0</td>\n",
              "      <td>360.0</td>\n",
              "      <td>360.0</td>\n",
              "      <td>360.00</td>\n",
              "      <td>480.0</td>\n",
              "    </tr>\n",
              "    <tr>\n",
              "      <th>Credit_History</th>\n",
              "      <td>422.0</td>\n",
              "      <td>0.983412</td>\n",
              "      <td>0.127872</td>\n",
              "      <td>0.0</td>\n",
              "      <td>1.0</td>\n",
              "      <td>1.0</td>\n",
              "      <td>1.00</td>\n",
              "      <td>1.0</td>\n",
              "    </tr>\n",
              "    <tr>\n",
              "      <th>Property_Area</th>\n",
              "      <td>422.0</td>\n",
              "      <td>1.054502</td>\n",
              "      <td>0.757773</td>\n",
              "      <td>0.0</td>\n",
              "      <td>0.0</td>\n",
              "      <td>1.0</td>\n",
              "      <td>2.00</td>\n",
              "      <td>2.0</td>\n",
              "    </tr>\n",
              "    <tr>\n",
              "      <th>Loan_Status</th>\n",
              "      <td>422.0</td>\n",
              "      <td>1.000000</td>\n",
              "      <td>0.000000</td>\n",
              "      <td>1.0</td>\n",
              "      <td>1.0</td>\n",
              "      <td>1.0</td>\n",
              "      <td>1.00</td>\n",
              "      <td>1.0</td>\n",
              "    </tr>\n",
              "  </tbody>\n",
              "</table>\n",
              "</div>\n",
              "      <button class=\"colab-df-convert\" onclick=\"convertToInteractive('df-50a690e6-9767-4086-a422-cfe85ac0de2f')\"\n",
              "              title=\"Convert this dataframe to an interactive table.\"\n",
              "              style=\"display:none;\">\n",
              "        \n",
              "  <svg xmlns=\"http://www.w3.org/2000/svg\" height=\"24px\"viewBox=\"0 0 24 24\"\n",
              "       width=\"24px\">\n",
              "    <path d=\"M0 0h24v24H0V0z\" fill=\"none\"/>\n",
              "    <path d=\"M18.56 5.44l.94 2.06.94-2.06 2.06-.94-2.06-.94-.94-2.06-.94 2.06-2.06.94zm-11 1L8.5 8.5l.94-2.06 2.06-.94-2.06-.94L8.5 2.5l-.94 2.06-2.06.94zm10 10l.94 2.06.94-2.06 2.06-.94-2.06-.94-.94-2.06-.94 2.06-2.06.94z\"/><path d=\"M17.41 7.96l-1.37-1.37c-.4-.4-.92-.59-1.43-.59-.52 0-1.04.2-1.43.59L10.3 9.45l-7.72 7.72c-.78.78-.78 2.05 0 2.83L4 21.41c.39.39.9.59 1.41.59.51 0 1.02-.2 1.41-.59l7.78-7.78 2.81-2.81c.8-.78.8-2.07 0-2.86zM5.41 20L4 18.59l7.72-7.72 1.47 1.35L5.41 20z\"/>\n",
              "  </svg>\n",
              "      </button>\n",
              "      \n",
              "  <style>\n",
              "    .colab-df-container {\n",
              "      display:flex;\n",
              "      flex-wrap:wrap;\n",
              "      gap: 12px;\n",
              "    }\n",
              "\n",
              "    .colab-df-convert {\n",
              "      background-color: #E8F0FE;\n",
              "      border: none;\n",
              "      border-radius: 50%;\n",
              "      cursor: pointer;\n",
              "      display: none;\n",
              "      fill: #1967D2;\n",
              "      height: 32px;\n",
              "      padding: 0 0 0 0;\n",
              "      width: 32px;\n",
              "    }\n",
              "\n",
              "    .colab-df-convert:hover {\n",
              "      background-color: #E2EBFA;\n",
              "      box-shadow: 0px 1px 2px rgba(60, 64, 67, 0.3), 0px 1px 3px 1px rgba(60, 64, 67, 0.15);\n",
              "      fill: #174EA6;\n",
              "    }\n",
              "\n",
              "    [theme=dark] .colab-df-convert {\n",
              "      background-color: #3B4455;\n",
              "      fill: #D2E3FC;\n",
              "    }\n",
              "\n",
              "    [theme=dark] .colab-df-convert:hover {\n",
              "      background-color: #434B5C;\n",
              "      box-shadow: 0px 1px 3px 1px rgba(0, 0, 0, 0.15);\n",
              "      filter: drop-shadow(0px 1px 2px rgba(0, 0, 0, 0.3));\n",
              "      fill: #FFFFFF;\n",
              "    }\n",
              "  </style>\n",
              "\n",
              "      <script>\n",
              "        const buttonEl =\n",
              "          document.querySelector('#df-50a690e6-9767-4086-a422-cfe85ac0de2f button.colab-df-convert');\n",
              "        buttonEl.style.display =\n",
              "          google.colab.kernel.accessAllowed ? 'block' : 'none';\n",
              "\n",
              "        async function convertToInteractive(key) {\n",
              "          const element = document.querySelector('#df-50a690e6-9767-4086-a422-cfe85ac0de2f');\n",
              "          const dataTable =\n",
              "            await google.colab.kernel.invokeFunction('convertToInteractive',\n",
              "                                                     [key], {});\n",
              "          if (!dataTable) return;\n",
              "\n",
              "          const docLinkHtml = 'Like what you see? Visit the ' +\n",
              "            '<a target=\"_blank\" href=https://colab.research.google.com/notebooks/data_table.ipynb>data table notebook</a>'\n",
              "            + ' to learn more about interactive tables.';\n",
              "          element.innerHTML = '';\n",
              "          dataTable['output_type'] = 'display_data';\n",
              "          await google.colab.output.renderOutput(dataTable, element);\n",
              "          const docLink = document.createElement('div');\n",
              "          docLink.innerHTML = docLinkHtml;\n",
              "          element.appendChild(docLink);\n",
              "        }\n",
              "      </script>\n",
              "    </div>\n",
              "  </div>\n",
              "  "
            ]
          },
          "metadata": {},
          "execution_count": 29
        }
      ],
      "source": [
        "loans.describe().T"
      ]
    },
    {
      "cell_type": "code",
      "execution_count": null,
      "metadata": {
        "colab": {
          "base_uri": "https://localhost:8080/",
          "height": 426
        },
        "id": "5Um-Q7WLZxwl",
        "outputId": "9c76223e-fd4b-4592-8bdd-45faa7ce5c0c"
      },
      "outputs": [
        {
          "output_type": "execute_result",
          "data": {
            "text/plain": [
              "                   count         mean          std    min      25%     50%  \\\n",
              "Gender             192.0     0.192708     0.395457    0.0     0.00     0.0   \n",
              "Married            192.0     0.588542     0.493384    0.0     0.00     1.0   \n",
              "Dependents         192.0     0.729167     1.012789    0.0     0.00     0.0   \n",
              "Education          192.0     0.729167     0.445552    0.0     0.00     1.0   \n",
              "Self_Employed      192.0     0.135417     0.343063    0.0     0.00     0.0   \n",
              "ApplicantIncome    192.0  5446.078125  6819.558528  150.0  2885.00  3833.5   \n",
              "CoapplicantIncome  192.0  1877.807292  4384.060103    0.0     0.00   268.0   \n",
              "LoanAmount         192.0   149.890625    83.529056    9.0   102.75   128.0   \n",
              "Loan_Amount_Term   192.0   344.562500    68.199402   36.0   360.00   360.0   \n",
              "Credit_History     192.0     0.572917     0.495948    0.0     0.00     1.0   \n",
              "Property_Area      192.0     1.000000     0.850008    0.0     0.00     1.0   \n",
              "Loan_Status        192.0     0.000000     0.000000    0.0     0.00     0.0   \n",
              "\n",
              "                       75%      max  \n",
              "Gender                0.00      1.0  \n",
              "Married               1.00      1.0  \n",
              "Dependents            1.00      3.0  \n",
              "Education             1.00      1.0  \n",
              "Self_Employed         0.00      1.0  \n",
              "ApplicantIncome    5861.25  81000.0  \n",
              "CoapplicantIncome  2273.75  41667.0  \n",
              "LoanAmount          173.00    570.0  \n",
              "Loan_Amount_Term    360.00    480.0  \n",
              "Credit_History        1.00      1.0  \n",
              "Property_Area         2.00      2.0  \n",
              "Loan_Status           0.00      0.0  "
            ],
            "text/html": [
              "\n",
              "  <div id=\"df-b785f31d-6967-4319-93cc-a52db4d9020e\">\n",
              "    <div class=\"colab-df-container\">\n",
              "      <div>\n",
              "<style scoped>\n",
              "    .dataframe tbody tr th:only-of-type {\n",
              "        vertical-align: middle;\n",
              "    }\n",
              "\n",
              "    .dataframe tbody tr th {\n",
              "        vertical-align: top;\n",
              "    }\n",
              "\n",
              "    .dataframe thead th {\n",
              "        text-align: right;\n",
              "    }\n",
              "</style>\n",
              "<table border=\"1\" class=\"dataframe\">\n",
              "  <thead>\n",
              "    <tr style=\"text-align: right;\">\n",
              "      <th></th>\n",
              "      <th>count</th>\n",
              "      <th>mean</th>\n",
              "      <th>std</th>\n",
              "      <th>min</th>\n",
              "      <th>25%</th>\n",
              "      <th>50%</th>\n",
              "      <th>75%</th>\n",
              "      <th>max</th>\n",
              "    </tr>\n",
              "  </thead>\n",
              "  <tbody>\n",
              "    <tr>\n",
              "      <th>Gender</th>\n",
              "      <td>192.0</td>\n",
              "      <td>0.192708</td>\n",
              "      <td>0.395457</td>\n",
              "      <td>0.0</td>\n",
              "      <td>0.00</td>\n",
              "      <td>0.0</td>\n",
              "      <td>0.00</td>\n",
              "      <td>1.0</td>\n",
              "    </tr>\n",
              "    <tr>\n",
              "      <th>Married</th>\n",
              "      <td>192.0</td>\n",
              "      <td>0.588542</td>\n",
              "      <td>0.493384</td>\n",
              "      <td>0.0</td>\n",
              "      <td>0.00</td>\n",
              "      <td>1.0</td>\n",
              "      <td>1.00</td>\n",
              "      <td>1.0</td>\n",
              "    </tr>\n",
              "    <tr>\n",
              "      <th>Dependents</th>\n",
              "      <td>192.0</td>\n",
              "      <td>0.729167</td>\n",
              "      <td>1.012789</td>\n",
              "      <td>0.0</td>\n",
              "      <td>0.00</td>\n",
              "      <td>0.0</td>\n",
              "      <td>1.00</td>\n",
              "      <td>3.0</td>\n",
              "    </tr>\n",
              "    <tr>\n",
              "      <th>Education</th>\n",
              "      <td>192.0</td>\n",
              "      <td>0.729167</td>\n",
              "      <td>0.445552</td>\n",
              "      <td>0.0</td>\n",
              "      <td>0.00</td>\n",
              "      <td>1.0</td>\n",
              "      <td>1.00</td>\n",
              "      <td>1.0</td>\n",
              "    </tr>\n",
              "    <tr>\n",
              "      <th>Self_Employed</th>\n",
              "      <td>192.0</td>\n",
              "      <td>0.135417</td>\n",
              "      <td>0.343063</td>\n",
              "      <td>0.0</td>\n",
              "      <td>0.00</td>\n",
              "      <td>0.0</td>\n",
              "      <td>0.00</td>\n",
              "      <td>1.0</td>\n",
              "    </tr>\n",
              "    <tr>\n",
              "      <th>ApplicantIncome</th>\n",
              "      <td>192.0</td>\n",
              "      <td>5446.078125</td>\n",
              "      <td>6819.558528</td>\n",
              "      <td>150.0</td>\n",
              "      <td>2885.00</td>\n",
              "      <td>3833.5</td>\n",
              "      <td>5861.25</td>\n",
              "      <td>81000.0</td>\n",
              "    </tr>\n",
              "    <tr>\n",
              "      <th>CoapplicantIncome</th>\n",
              "      <td>192.0</td>\n",
              "      <td>1877.807292</td>\n",
              "      <td>4384.060103</td>\n",
              "      <td>0.0</td>\n",
              "      <td>0.00</td>\n",
              "      <td>268.0</td>\n",
              "      <td>2273.75</td>\n",
              "      <td>41667.0</td>\n",
              "    </tr>\n",
              "    <tr>\n",
              "      <th>LoanAmount</th>\n",
              "      <td>192.0</td>\n",
              "      <td>149.890625</td>\n",
              "      <td>83.529056</td>\n",
              "      <td>9.0</td>\n",
              "      <td>102.75</td>\n",
              "      <td>128.0</td>\n",
              "      <td>173.00</td>\n",
              "      <td>570.0</td>\n",
              "    </tr>\n",
              "    <tr>\n",
              "      <th>Loan_Amount_Term</th>\n",
              "      <td>192.0</td>\n",
              "      <td>344.562500</td>\n",
              "      <td>68.199402</td>\n",
              "      <td>36.0</td>\n",
              "      <td>360.00</td>\n",
              "      <td>360.0</td>\n",
              "      <td>360.00</td>\n",
              "      <td>480.0</td>\n",
              "    </tr>\n",
              "    <tr>\n",
              "      <th>Credit_History</th>\n",
              "      <td>192.0</td>\n",
              "      <td>0.572917</td>\n",
              "      <td>0.495948</td>\n",
              "      <td>0.0</td>\n",
              "      <td>0.00</td>\n",
              "      <td>1.0</td>\n",
              "      <td>1.00</td>\n",
              "      <td>1.0</td>\n",
              "    </tr>\n",
              "    <tr>\n",
              "      <th>Property_Area</th>\n",
              "      <td>192.0</td>\n",
              "      <td>1.000000</td>\n",
              "      <td>0.850008</td>\n",
              "      <td>0.0</td>\n",
              "      <td>0.00</td>\n",
              "      <td>1.0</td>\n",
              "      <td>2.00</td>\n",
              "      <td>2.0</td>\n",
              "    </tr>\n",
              "    <tr>\n",
              "      <th>Loan_Status</th>\n",
              "      <td>192.0</td>\n",
              "      <td>0.000000</td>\n",
              "      <td>0.000000</td>\n",
              "      <td>0.0</td>\n",
              "      <td>0.00</td>\n",
              "      <td>0.0</td>\n",
              "      <td>0.00</td>\n",
              "      <td>0.0</td>\n",
              "    </tr>\n",
              "  </tbody>\n",
              "</table>\n",
              "</div>\n",
              "      <button class=\"colab-df-convert\" onclick=\"convertToInteractive('df-b785f31d-6967-4319-93cc-a52db4d9020e')\"\n",
              "              title=\"Convert this dataframe to an interactive table.\"\n",
              "              style=\"display:none;\">\n",
              "        \n",
              "  <svg xmlns=\"http://www.w3.org/2000/svg\" height=\"24px\"viewBox=\"0 0 24 24\"\n",
              "       width=\"24px\">\n",
              "    <path d=\"M0 0h24v24H0V0z\" fill=\"none\"/>\n",
              "    <path d=\"M18.56 5.44l.94 2.06.94-2.06 2.06-.94-2.06-.94-.94-2.06-.94 2.06-2.06.94zm-11 1L8.5 8.5l.94-2.06 2.06-.94-2.06-.94L8.5 2.5l-.94 2.06-2.06.94zm10 10l.94 2.06.94-2.06 2.06-.94-2.06-.94-.94-2.06-.94 2.06-2.06.94z\"/><path d=\"M17.41 7.96l-1.37-1.37c-.4-.4-.92-.59-1.43-.59-.52 0-1.04.2-1.43.59L10.3 9.45l-7.72 7.72c-.78.78-.78 2.05 0 2.83L4 21.41c.39.39.9.59 1.41.59.51 0 1.02-.2 1.41-.59l7.78-7.78 2.81-2.81c.8-.78.8-2.07 0-2.86zM5.41 20L4 18.59l7.72-7.72 1.47 1.35L5.41 20z\"/>\n",
              "  </svg>\n",
              "      </button>\n",
              "      \n",
              "  <style>\n",
              "    .colab-df-container {\n",
              "      display:flex;\n",
              "      flex-wrap:wrap;\n",
              "      gap: 12px;\n",
              "    }\n",
              "\n",
              "    .colab-df-convert {\n",
              "      background-color: #E8F0FE;\n",
              "      border: none;\n",
              "      border-radius: 50%;\n",
              "      cursor: pointer;\n",
              "      display: none;\n",
              "      fill: #1967D2;\n",
              "      height: 32px;\n",
              "      padding: 0 0 0 0;\n",
              "      width: 32px;\n",
              "    }\n",
              "\n",
              "    .colab-df-convert:hover {\n",
              "      background-color: #E2EBFA;\n",
              "      box-shadow: 0px 1px 2px rgba(60, 64, 67, 0.3), 0px 1px 3px 1px rgba(60, 64, 67, 0.15);\n",
              "      fill: #174EA6;\n",
              "    }\n",
              "\n",
              "    [theme=dark] .colab-df-convert {\n",
              "      background-color: #3B4455;\n",
              "      fill: #D2E3FC;\n",
              "    }\n",
              "\n",
              "    [theme=dark] .colab-df-convert:hover {\n",
              "      background-color: #434B5C;\n",
              "      box-shadow: 0px 1px 3px 1px rgba(0, 0, 0, 0.15);\n",
              "      filter: drop-shadow(0px 1px 2px rgba(0, 0, 0, 0.3));\n",
              "      fill: #FFFFFF;\n",
              "    }\n",
              "  </style>\n",
              "\n",
              "      <script>\n",
              "        const buttonEl =\n",
              "          document.querySelector('#df-b785f31d-6967-4319-93cc-a52db4d9020e button.colab-df-convert');\n",
              "        buttonEl.style.display =\n",
              "          google.colab.kernel.accessAllowed ? 'block' : 'none';\n",
              "\n",
              "        async function convertToInteractive(key) {\n",
              "          const element = document.querySelector('#df-b785f31d-6967-4319-93cc-a52db4d9020e');\n",
              "          const dataTable =\n",
              "            await google.colab.kernel.invokeFunction('convertToInteractive',\n",
              "                                                     [key], {});\n",
              "          if (!dataTable) return;\n",
              "\n",
              "          const docLinkHtml = 'Like what you see? Visit the ' +\n",
              "            '<a target=\"_blank\" href=https://colab.research.google.com/notebooks/data_table.ipynb>data table notebook</a>'\n",
              "            + ' to learn more about interactive tables.';\n",
              "          element.innerHTML = '';\n",
              "          dataTable['output_type'] = 'display_data';\n",
              "          await google.colab.output.renderOutput(dataTable, element);\n",
              "          const docLink = document.createElement('div');\n",
              "          docLink.innerHTML = docLinkHtml;\n",
              "          element.appendChild(docLink);\n",
              "        }\n",
              "      </script>\n",
              "    </div>\n",
              "  </div>\n",
              "  "
            ]
          },
          "metadata": {},
          "execution_count": 30
        }
      ],
      "source": [
        "no_loans.describe().T"
      ]
    },
    {
      "cell_type": "code",
      "execution_count": null,
      "metadata": {
        "colab": {
          "base_uri": "https://localhost:8080/",
          "height": 586
        },
        "id": "L8ftrpHeZ0Tr",
        "outputId": "083a5330-fb4b-4b41-c37e-cc898bd30148"
      },
      "outputs": [
        {
          "output_type": "stream",
          "name": "stderr",
          "text": [
            "/usr/local/lib/python3.7/dist-packages/seaborn/distributions.py:2619: FutureWarning: `distplot` is a deprecated function and will be removed in a future version. Please adapt your code to use either `displot` (a figure-level function with similar flexibility) or `histplot` (an axes-level function for histograms).\n",
            "  warnings.warn(msg, FutureWarning)\n",
            "/usr/local/lib/python3.7/dist-packages/seaborn/distributions.py:2619: FutureWarning: `distplot` is a deprecated function and will be removed in a future version. Please adapt your code to use either `displot` (a figure-level function with similar flexibility) or `histplot` (an axes-level function for histograms).\n",
            "  warnings.warn(msg, FutureWarning)\n"
          ]
        },
        {
          "output_type": "display_data",
          "data": {
            "text/plain": [
              "<Figure size 1080x576 with 1 Axes>"
            ],
            "image/png": "[encoded data removed]"
          },
          "metadata": {
            "needs_background": "light"
          }
        }
      ],
      "source": [
        "plt.figure(figsize=(15,8))\n",
        "sns.distplot(loans[\"ApplicantIncome\"])\n",
        "sns.distplot(no_loans[\"ApplicantIncome\"])\n",
        "plt.show()"
      ]
    },
    {
      "cell_type": "code",
      "execution_count": null,
      "metadata": {
        "colab": {
          "base_uri": "https://localhost:8080/",
          "height": 682
        },
        "id": "3oWslHKyZ3Xh",
        "outputId": "cab8fc12-e8e7-4b29-e515-bd386766fa77"
      },
      "outputs": [
        {
          "output_type": "display_data",
          "data": {
            "text/plain": [
              "<Figure size 720x720 with 2 Axes>"
            ],
            "image/png": "[encoded data removed]"
          },
          "metadata": {
            "needs_background": "light"
          }
        }
      ],
      "source": [
        "cm = df.corr()\n",
        "plt.figure(figsize=(10,10))\n",
        "sns.heatmap(cm, annot=True)\n",
        "plt.show()"
      ]
    },
    {
      "cell_type": "code",
      "execution_count": null,
      "metadata": {
        "colab": {
          "base_uri": "https://localhost:8080/",
          "height": 552
        },
        "id": "4RgDlHubZ6lE",
        "outputId": "0ff770d4-5001-41d6-c8d4-f6e30041e580"
      },
      "outputs": [
        {
          "output_type": "stream",
          "name": "stderr",
          "text": [
            "/usr/local/lib/python3.7/dist-packages/seaborn/distributions.py:2619: FutureWarning: `distplot` is a deprecated function and will be removed in a future version. Please adapt your code to use either `displot` (a figure-level function with similar flexibility) or `histplot` (an axes-level function for histograms).\n",
            "  warnings.warn(msg, FutureWarning)\n"
          ]
        },
        {
          "output_type": "display_data",
          "data": {
            "text/plain": [
              "<Figure size 1080x576 with 1 Axes>"
            ],
            "image/png": "[encoded data removed]"
          },
          "metadata": {
            "needs_background": "light"
          }
        }
      ],
      "source": [
        "# distribution of dependents\n",
        "plt.figure(figsize=(15,8))\n",
        "sns.distplot(df[\"Dependents\"])\n",
        "plt.show()"
      ]
    },
    {
      "cell_type": "code",
      "execution_count": null,
      "metadata": {
        "colab": {
          "base_uri": "https://localhost:8080/",
          "height": 586
        },
        "id": "9DUR72SOaDW2",
        "outputId": "b1ba5dcd-dc09-4e99-e89d-7f314f0ee004"
      },
      "outputs": [
        {
          "output_type": "stream",
          "name": "stderr",
          "text": [
            "/usr/local/lib/python3.7/dist-packages/seaborn/distributions.py:2619: FutureWarning: `distplot` is a deprecated function and will be removed in a future version. Please adapt your code to use either `displot` (a figure-level function with similar flexibility) or `histplot` (an axes-level function for histograms).\n",
            "  warnings.warn(msg, FutureWarning)\n",
            "/usr/local/lib/python3.7/dist-packages/seaborn/distributions.py:2619: FutureWarning: `distplot` is a deprecated function and will be removed in a future version. Please adapt your code to use either `displot` (a figure-level function with similar flexibility) or `histplot` (an axes-level function for histograms).\n",
            "  warnings.warn(msg, FutureWarning)\n"
          ]
        },
        {
          "output_type": "display_data",
          "data": {
            "text/plain": [
              "<Figure size 1080x576 with 1 Axes>"
            ],
            "image/png": "[encoded data removed]"
          },
          "metadata": {
            "needs_background": "light"
          }
        }
      ],
      "source": [
        "plt.figure(figsize=(15,8))\n",
        "sns.distplot(loans[\"Dependents\"])\n",
        "sns.distplot(no_loans[\"Dependents\"])\n",
        "plt.show()"
      ]
    },
    {
      "cell_type": "code",
      "execution_count": null,
      "metadata": {
        "id": "456wTkU4aHXv"
      },
      "outputs": [],
      "source": [
        "#DATA PREPARATION"
      ]
    },
    {
      "cell_type": "code",
      "execution_count": null,
      "metadata": {
        "id": "cfiTJdXbaNfW"
      },
      "outputs": [],
      "source": [
        "from tensorflow.keras.utils import to_categorical\n",
        "\n",
        "X = df.drop(columns=[\"Loan_ID\", \"Loan_Status\"])\n",
        "y = df[\"Loan_Status\"]\n",
        "y = to_categorical(y)    #returns binary repreesentation of inputs"
      ]
    },
    {
      "cell_type": "code",
      "execution_count": null,
      "metadata": {
        "colab": {
          "base_uri": "https://localhost:8080/"
        },
        "id": "caE8YIAhaS1D",
        "outputId": "e99891e5-6be8-4f1e-8827-07e264cac5ed"
      },
      "outputs": [
        {
          "output_type": "execute_result",
          "data": {
            "text/plain": [
              "((552, 11), (62, 11), (552, 2), (62, 2))"
            ]
          },
          "metadata": {},
          "execution_count": 37
        }
      ],
      "source": [
        "from sklearn.preprocessing import StandardScaler\n",
        "from sklearn.model_selection import train_test_split\n",
        "\n",
        "X_train, X_test, y_train, y_test = train_test_split(X, y, test_size=0.1, stratify=y, random_state=12)\n",
        "\n",
        "sc = StandardScaler()\n",
        "X_train = sc.fit_transform(X_train)\n",
        "X_test = sc.transform(X_test)\n",
        "\n",
        "X_train.shape, X_test.shape, y_train.shape, y_test.shape"
      ]
    },
    {
      "cell_type": "code",
      "execution_count": null,
      "metadata": {
        "colab": {
          "base_uri": "https://localhost:8080/"
        },
        "id": "HIae6I1uaZIk",
        "outputId": "7e2507f2-0bcb-4b4d-cc70-c41c7303dbb9"
      },
      "outputs": [
        {
          "output_type": "stream",
          "name": "stdout",
          "text": [
            "Model: \"sequential\"\n",
            "_________________________________________________________________\n",
            " Layer (type)                Output Shape              Param #   \n",
            "=================================================================\n",
            " dense (Dense)               (None, 250)               3000      \n",
            "                                                                 \n",
            " dropout (Dropout)           (None, 250)               0         \n",
            "                                                                 \n",
            " dense_1 (Dense)             (None, 500)               125500    \n",
            "                                                                 \n",
            " dropout_1 (Dropout)         (None, 500)               0         \n",
            "                                                                 \n",
            " dense_2 (Dense)             (None, 500)               250500    \n",
            "                                                                 \n",
            " dropout_2 (Dropout)         (None, 500)               0         \n",
            "                                                                 \n",
            " dense_3 (Dense)             (None, 500)               250500    \n",
            "                                                                 \n",
            " dropout_3 (Dropout)         (None, 500)               0         \n",
            "                                                                 \n",
            " dense_4 (Dense)             (None, 250)               125250    \n",
            "                                                                 \n",
            " dropout_4 (Dropout)         (None, 250)               0         \n",
            "                                                                 \n",
            " dense_5 (Dense)             (None, 2)                 502       \n",
            "                                                                 \n",
            "=================================================================\n",
            "Total params: 755,252\n",
            "Trainable params: 755,252\n",
            "Non-trainable params: 0\n",
            "_________________________________________________________________\n"
          ]
        }
      ],
      "source": [
        "# sequential model\n",
        "model = keras.Sequential()\n",
        "\n",
        "# adding dense layer\n",
        "model.add(Dense(250, input_dim=11, kernel_initializer='normal', activation='relu'))\n",
        "model.add(Dropout(0.3))\n",
        "model.add(Dense(500, activation='relu'))\n",
        "model.add(Dropout(0.3))\n",
        "model.add(Dense(500, activation='relu'))\n",
        "model.add(Dropout(0.3))\n",
        "model.add(Dense(500, activation='relu'))\n",
        "model.add(Dropout(0.4))\n",
        "model.add(Dense(250, activation='linear'))\n",
        "model.add(Dropout(0.4))\n",
        "#adding dense layer with softmax activation/output layer\n",
        "model.add(Dense(2, activation='sigmoid'))\n",
        "model.summary()"
      ]
    },
    {
      "cell_type": "code",
      "execution_count": null,
      "metadata": {
        "id": "LP6Eut_naoJ-"
      },
      "outputs": [],
      "source": [
        "#COMPILATION AND TRAINING"
      ]
    },
    {
      "cell_type": "code",
      "execution_count": null,
      "metadata": {
        "id": "wCRnOrFGavSj"
      },
      "outputs": [],
      "source": [
        "# custom functions for f1, precision and recall\n",
        "\n",
        "from keras import backend as K\n",
        "\n",
        "def recall_m(y_true, y_pred):\n",
        "    true_positives = K.sum(K.round(K.clip(y_true * y_pred, 0, 1)))\n",
        "    possible_positives = K.sum(K.round(K.clip(y_true, 0, 1)))\n",
        "    recall = true_positives / (possible_positives + K.epsilon())\n",
        "    return recall\n",
        "\n",
        "def precision_m(y_true, y_pred):\n",
        "    true_positives = K.sum(K.round(K.clip(y_true * y_pred, 0, 1)))\n",
        "    predicted_positives = K.sum(K.round(K.clip(y_pred, 0, 1)))\n",
        "    precision = true_positives / (predicted_positives + K.epsilon())\n",
        "    return precision\n",
        "\n",
        "def f1_m(y_true, y_pred):\n",
        "    precision = precision_m(y_true, y_pred)\n",
        "    recall = recall_m(y_true, y_pred)\n",
        "    return 2*((precision*recall)/(precision+recall+K.epsilon()))"
      ]
    },
    {
      "cell_type": "code",
      "execution_count": null,
      "metadata": {
        "id": "W5pzbVzQayuX"
      },
      "outputs": [],
      "source": [
        "model.compile(loss='categorical_crossentropy', optimizer='adam', metrics=[f1_m]) # metrics=['accuracy']"
      ]
    },
    {
      "cell_type": "code",
      "execution_count": null,
      "metadata": {
        "colab": {
          "base_uri": "https://localhost:8080/"
        },
        "id": "Rc4BaUO2a5Ly",
        "outputId": "ca2d731b-fb61-4259-f34b-c8720bb41728"
      },
      "outputs": [
        {
          "output_type": "stream",
          "name": "stdout",
          "text": [
            "Epoch 1/100\n",
            "14/14 [==============================] - 4s 22ms/step - loss: 0.5913 - f1_m: 0.7422 - val_loss: 0.6037 - val_f1_m: 0.7398\n",
            "Epoch 2/100\n",
            "14/14 [==============================] - 0s 5ms/step - loss: 0.5149 - f1_m: 0.8033 - val_loss: 0.7087 - val_f1_m: 0.7496\n",
            "Epoch 3/100\n",
            "14/14 [==============================] - 0s 6ms/step - loss: 0.4852 - f1_m: 0.8123 - val_loss: 0.5751 - val_f1_m: 0.7526\n",
            "Epoch 4/100\n",
            "14/14 [==============================] - 0s 5ms/step - loss: 0.4523 - f1_m: 0.8201 - val_loss: 0.5441 - val_f1_m: 0.7526\n",
            "Epoch 5/100\n",
            "14/14 [==============================] - 0s 6ms/step - loss: 0.4299 - f1_m: 0.8401 - val_loss: 0.5700 - val_f1_m: 0.7281\n",
            "Epoch 6/100\n",
            "14/14 [==============================] - 0s 5ms/step - loss: 0.4450 - f1_m: 0.8171 - val_loss: 0.5627 - val_f1_m: 0.7207\n",
            "Epoch 7/100\n",
            "14/14 [==============================] - 0s 5ms/step - loss: 0.4051 - f1_m: 0.8496 - val_loss: 0.7000 - val_f1_m: 0.7526\n",
            "Epoch 8/100\n",
            "14/14 [==============================] - 0s 7ms/step - loss: 0.4644 - f1_m: 0.8166 - val_loss: 0.5515 - val_f1_m: 0.7526\n",
            "Epoch 9/100\n",
            "14/14 [==============================] - 0s 6ms/step - loss: 0.3848 - f1_m: 0.8418 - val_loss: 0.5939 - val_f1_m: 0.7125\n",
            "Epoch 10/100\n",
            "14/14 [==============================] - 0s 5ms/step - loss: 0.4167 - f1_m: 0.8331 - val_loss: 0.5838 - val_f1_m: 0.7526\n",
            "Epoch 11/100\n",
            "14/14 [==============================] - 0s 5ms/step - loss: 0.4028 - f1_m: 0.8560 - val_loss: 0.5945 - val_f1_m: 0.7526\n",
            "Epoch 12/100\n",
            "14/14 [==============================] - 0s 5ms/step - loss: 0.3816 - f1_m: 0.8377 - val_loss: 0.6261 - val_f1_m: 0.7365\n",
            "Epoch 13/100\n",
            "14/14 [==============================] - 0s 5ms/step - loss: 0.4010 - f1_m: 0.8394 - val_loss: 0.6360 - val_f1_m: 0.7545\n",
            "Epoch 14/100\n",
            "14/14 [==============================] - 0s 5ms/step - loss: 0.3659 - f1_m: 0.8469 - val_loss: 0.6243 - val_f1_m: 0.7513\n",
            "Epoch 15/100\n",
            "14/14 [==============================] - 0s 7ms/step - loss: 0.3733 - f1_m: 0.8493 - val_loss: 0.6454 - val_f1_m: 0.7387\n",
            "Epoch 16/100\n",
            "14/14 [==============================] - 0s 5ms/step - loss: 0.4067 - f1_m: 0.8341 - val_loss: 0.5818 - val_f1_m: 0.7004\n",
            "Epoch 17/100\n",
            "14/14 [==============================] - 0s 5ms/step - loss: 0.3850 - f1_m: 0.8567 - val_loss: 0.6626 - val_f1_m: 0.7387\n",
            "Epoch 18/100\n",
            "14/14 [==============================] - 0s 5ms/step - loss: 0.3805 - f1_m: 0.8427 - val_loss: 0.6397 - val_f1_m: 0.7186\n",
            "Epoch 19/100\n",
            "14/14 [==============================] - 0s 5ms/step - loss: 0.3436 - f1_m: 0.8636 - val_loss: 0.6637 - val_f1_m: 0.7387\n",
            "Epoch 20/100\n",
            "14/14 [==============================] - 0s 5ms/step - loss: 0.3805 - f1_m: 0.8573 - val_loss: 0.6107 - val_f1_m: 0.7186\n",
            "Epoch 21/100\n",
            "14/14 [==============================] - 0s 5ms/step - loss: 0.3633 - f1_m: 0.8509 - val_loss: 0.7131 - val_f1_m: 0.7292\n",
            "Epoch 22/100\n",
            "14/14 [==============================] - 0s 5ms/step - loss: 0.3499 - f1_m: 0.8671 - val_loss: 0.6418 - val_f1_m: 0.7357\n",
            "Epoch 23/100\n",
            "14/14 [==============================] - 0s 5ms/step - loss: 0.3280 - f1_m: 0.8653 - val_loss: 0.6679 - val_f1_m: 0.7361\n",
            "Epoch 24/100\n",
            "14/14 [==============================] - 0s 5ms/step - loss: 0.3639 - f1_m: 0.8605 - val_loss: 0.6822 - val_f1_m: 0.7097\n",
            "Epoch 25/100\n",
            "14/14 [==============================] - 0s 5ms/step - loss: 0.3350 - f1_m: 0.8673 - val_loss: 0.6722 - val_f1_m: 0.7214\n",
            "Epoch 26/100\n",
            "14/14 [==============================] - 0s 5ms/step - loss: 0.3612 - f1_m: 0.8431 - val_loss: 0.6673 - val_f1_m: 0.7358\n",
            "Epoch 27/100\n",
            "14/14 [==============================] - 0s 5ms/step - loss: 0.3355 - f1_m: 0.8588 - val_loss: 0.6430 - val_f1_m: 0.7058\n",
            "Epoch 28/100\n",
            "14/14 [==============================] - 0s 6ms/step - loss: 0.3277 - f1_m: 0.8686 - val_loss: 0.7463 - val_f1_m: 0.6709\n",
            "Epoch 29/100\n",
            "14/14 [==============================] - 0s 6ms/step - loss: 0.3148 - f1_m: 0.8697 - val_loss: 0.6665 - val_f1_m: 0.7264\n",
            "Epoch 30/100\n",
            "14/14 [==============================] - 0s 6ms/step - loss: 0.3163 - f1_m: 0.8761 - val_loss: 0.6855 - val_f1_m: 0.7182\n",
            "Epoch 31/100\n",
            "14/14 [==============================] - 0s 5ms/step - loss: 0.3154 - f1_m: 0.8781 - val_loss: 0.6971 - val_f1_m: 0.7203\n",
            "Epoch 32/100\n",
            "14/14 [==============================] - 0s 5ms/step - loss: 0.3056 - f1_m: 0.8817 - val_loss: 0.6680 - val_f1_m: 0.7079\n",
            "Epoch 33/100\n",
            "14/14 [==============================] - 0s 5ms/step - loss: 0.2815 - f1_m: 0.8815 - val_loss: 0.7797 - val_f1_m: 0.7203\n",
            "Epoch 34/100\n",
            "14/14 [==============================] - 0s 5ms/step - loss: 0.3055 - f1_m: 0.8860 - val_loss: 0.7286 - val_f1_m: 0.6577\n",
            "Epoch 35/100\n",
            "14/14 [==============================] - 0s 5ms/step - loss: 0.2843 - f1_m: 0.8814 - val_loss: 0.8144 - val_f1_m: 0.7073\n",
            "Epoch 36/100\n",
            "14/14 [==============================] - 0s 5ms/step - loss: 0.3006 - f1_m: 0.8656 - val_loss: 0.8344 - val_f1_m: 0.6969\n",
            "Epoch 37/100\n",
            "14/14 [==============================] - 0s 5ms/step - loss: 0.3110 - f1_m: 0.8654 - val_loss: 0.7115 - val_f1_m: 0.6745\n",
            "Epoch 38/100\n",
            "14/14 [==============================] - 0s 6ms/step - loss: 0.2598 - f1_m: 0.8957 - val_loss: 0.8134 - val_f1_m: 0.7238\n",
            "Epoch 39/100\n",
            "14/14 [==============================] - 0s 5ms/step - loss: 0.2795 - f1_m: 0.8770 - val_loss: 0.8033 - val_f1_m: 0.6621\n",
            "Epoch 40/100\n",
            "14/14 [==============================] - 0s 6ms/step - loss: 0.2565 - f1_m: 0.9057 - val_loss: 0.8903 - val_f1_m: 0.7125\n",
            "Epoch 41/100\n",
            "14/14 [==============================] - 0s 6ms/step - loss: 0.2450 - f1_m: 0.8907 - val_loss: 0.8848 - val_f1_m: 0.6812\n",
            "Epoch 42/100\n",
            "14/14 [==============================] - 0s 5ms/step - loss: 0.2659 - f1_m: 0.8866 - val_loss: 0.8655 - val_f1_m: 0.6724\n",
            "Epoch 43/100\n",
            "14/14 [==============================] - 0s 5ms/step - loss: 0.2442 - f1_m: 0.8936 - val_loss: 1.0551 - val_f1_m: 0.6969\n",
            "Epoch 44/100\n",
            "14/14 [==============================] - 0s 5ms/step - loss: 0.2525 - f1_m: 0.8889 - val_loss: 1.0721 - val_f1_m: 0.6762\n",
            "Epoch 45/100\n",
            "14/14 [==============================] - 0s 6ms/step - loss: 0.3026 - f1_m: 0.8644 - val_loss: 0.7291 - val_f1_m: 0.6762\n",
            "Epoch 46/100\n",
            "14/14 [==============================] - 0s 6ms/step - loss: 0.2608 - f1_m: 0.8933 - val_loss: 0.8157 - val_f1_m: 0.7047\n",
            "Epoch 47/100\n",
            "14/14 [==============================] - 0s 5ms/step - loss: 0.2586 - f1_m: 0.8879 - val_loss: 0.9428 - val_f1_m: 0.6880\n",
            "Epoch 48/100\n",
            "14/14 [==============================] - 0s 5ms/step - loss: 0.2753 - f1_m: 0.8778 - val_loss: 0.8650 - val_f1_m: 0.6724\n",
            "Epoch 49/100\n",
            "14/14 [==============================] - 0s 5ms/step - loss: 0.2317 - f1_m: 0.9063 - val_loss: 0.8899 - val_f1_m: 0.6734\n",
            "Epoch 50/100\n",
            "14/14 [==============================] - 0s 5ms/step - loss: 0.2358 - f1_m: 0.8921 - val_loss: 1.0983 - val_f1_m: 0.6724\n",
            "Epoch 51/100\n",
            "14/14 [==============================] - 0s 6ms/step - loss: 0.2389 - f1_m: 0.8834 - val_loss: 0.9477 - val_f1_m: 0.6812\n",
            "Epoch 52/100\n",
            "14/14 [==============================] - 0s 7ms/step - loss: 0.1855 - f1_m: 0.9073 - val_loss: 1.2577 - val_f1_m: 0.6999\n",
            "Epoch 53/100\n",
            "14/14 [==============================] - 0s 6ms/step - loss: 0.2080 - f1_m: 0.9129 - val_loss: 1.2416 - val_f1_m: 0.6685\n",
            "Epoch 54/100\n",
            "14/14 [==============================] - 0s 5ms/step - loss: 0.2582 - f1_m: 0.8885 - val_loss: 0.9452 - val_f1_m: 0.6948\n",
            "Epoch 55/100\n",
            "14/14 [==============================] - 0s 6ms/step - loss: 0.2261 - f1_m: 0.9021 - val_loss: 1.1995 - val_f1_m: 0.6969\n",
            "Epoch 56/100\n",
            "14/14 [==============================] - 0s 6ms/step - loss: 0.2007 - f1_m: 0.9111 - val_loss: 1.2282 - val_f1_m: 0.6920\n",
            "Epoch 57/100\n",
            "14/14 [==============================] - 0s 5ms/step - loss: 0.2353 - f1_m: 0.8892 - val_loss: 1.1268 - val_f1_m: 0.6724\n",
            "Epoch 58/100\n",
            "14/14 [==============================] - 0s 5ms/step - loss: 0.2039 - f1_m: 0.9096 - val_loss: 1.1721 - val_f1_m: 0.7003\n",
            "Epoch 59/100\n",
            "14/14 [==============================] - 0s 5ms/step - loss: 0.2175 - f1_m: 0.9030 - val_loss: 1.0395 - val_f1_m: 0.6796\n",
            "Epoch 60/100\n",
            "14/14 [==============================] - 0s 5ms/step - loss: 0.2105 - f1_m: 0.9128 - val_loss: 1.1232 - val_f1_m: 0.6901\n",
            "Epoch 61/100\n",
            "14/14 [==============================] - 0s 6ms/step - loss: 0.1815 - f1_m: 0.9166 - val_loss: 1.3468 - val_f1_m: 0.6656\n",
            "Epoch 62/100\n",
            "14/14 [==============================] - 0s 5ms/step - loss: 0.2206 - f1_m: 0.8822 - val_loss: 1.3127 - val_f1_m: 0.6734\n",
            "Epoch 63/100\n",
            "14/14 [==============================] - 0s 5ms/step - loss: 0.2058 - f1_m: 0.9023 - val_loss: 1.2843 - val_f1_m: 0.6656\n",
            "Epoch 64/100\n",
            "14/14 [==============================] - 0s 6ms/step - loss: 0.1909 - f1_m: 0.9161 - val_loss: 1.4543 - val_f1_m: 0.6682\n",
            "Epoch 65/100\n",
            "14/14 [==============================] - 0s 6ms/step - loss: 0.2040 - f1_m: 0.9120 - val_loss: 1.3326 - val_f1_m: 0.6927\n",
            "Epoch 66/100\n",
            "14/14 [==============================] - 0s 5ms/step - loss: 0.2090 - f1_m: 0.9040 - val_loss: 1.2120 - val_f1_m: 0.7091\n",
            "Epoch 67/100\n",
            "14/14 [==============================] - 0s 6ms/step - loss: 0.2027 - f1_m: 0.9033 - val_loss: 1.1427 - val_f1_m: 0.6785\n",
            "Epoch 68/100\n",
            "14/14 [==============================] - 0s 6ms/step - loss: 0.1640 - f1_m: 0.9185 - val_loss: 1.4306 - val_f1_m: 0.6490\n",
            "Epoch 69/100\n",
            "14/14 [==============================] - 0s 6ms/step - loss: 0.1562 - f1_m: 0.9270 - val_loss: 1.7089 - val_f1_m: 0.6411\n",
            "Epoch 70/100\n",
            "14/14 [==============================] - 0s 5ms/step - loss: 0.1980 - f1_m: 0.9241 - val_loss: 1.3296 - val_f1_m: 0.6568\n",
            "Epoch 71/100\n",
            "14/14 [==============================] - 0s 6ms/step - loss: 0.1780 - f1_m: 0.9171 - val_loss: 1.5343 - val_f1_m: 0.6839\n",
            "Epoch 72/100\n",
            "14/14 [==============================] - 0s 5ms/step - loss: 0.2066 - f1_m: 0.9156 - val_loss: 1.3089 - val_f1_m: 0.6635\n",
            "Epoch 73/100\n",
            "14/14 [==============================] - 0s 5ms/step - loss: 0.1867 - f1_m: 0.9089 - val_loss: 1.4228 - val_f1_m: 0.7135\n",
            "Epoch 74/100\n",
            "14/14 [==============================] - 0s 5ms/step - loss: 0.1554 - f1_m: 0.9256 - val_loss: 1.5477 - val_f1_m: 0.6772\n",
            "Epoch 75/100\n",
            "14/14 [==============================] - 0s 5ms/step - loss: 0.2062 - f1_m: 0.9032 - val_loss: 1.5148 - val_f1_m: 0.6646\n",
            "Epoch 76/100\n",
            "14/14 [==============================] - 0s 6ms/step - loss: 0.1548 - f1_m: 0.9212 - val_loss: 1.5071 - val_f1_m: 0.6490\n",
            "Epoch 77/100\n",
            "14/14 [==============================] - 0s 8ms/step - loss: 0.1738 - f1_m: 0.9122 - val_loss: 1.5124 - val_f1_m: 0.6656\n",
            "Epoch 78/100\n",
            "14/14 [==============================] - 0s 8ms/step - loss: 0.1766 - f1_m: 0.9186 - val_loss: 1.6308 - val_f1_m: 0.6873\n",
            "Epoch 79/100\n",
            "14/14 [==============================] - 0s 7ms/step - loss: 0.1920 - f1_m: 0.9057 - val_loss: 1.3229 - val_f1_m: 0.6979\n",
            "Epoch 80/100\n",
            "14/14 [==============================] - 0s 9ms/step - loss: 0.1484 - f1_m: 0.9313 - val_loss: 1.7224 - val_f1_m: 0.7057\n",
            "Epoch 81/100\n",
            "14/14 [==============================] - 0s 9ms/step - loss: 0.1719 - f1_m: 0.9198 - val_loss: 1.7064 - val_f1_m: 0.6643\n",
            "Epoch 82/100\n",
            "14/14 [==============================] - 0s 7ms/step - loss: 0.1603 - f1_m: 0.9270 - val_loss: 1.5291 - val_f1_m: 0.6812\n",
            "Epoch 83/100\n",
            "14/14 [==============================] - 0s 8ms/step - loss: 0.1664 - f1_m: 0.9351 - val_loss: 1.6568 - val_f1_m: 0.6927\n",
            "Epoch 84/100\n",
            "14/14 [==============================] - 0s 8ms/step - loss: 0.1548 - f1_m: 0.9234 - val_loss: 1.7098 - val_f1_m: 0.6764\n",
            "Epoch 85/100\n",
            "14/14 [==============================] - 0s 7ms/step - loss: 0.1407 - f1_m: 0.9330 - val_loss: 1.7902 - val_f1_m: 0.6490\n",
            "Epoch 86/100\n",
            "14/14 [==============================] - 0s 8ms/step - loss: 0.1909 - f1_m: 0.9153 - val_loss: 1.8658 - val_f1_m: 0.6734\n",
            "Epoch 87/100\n",
            "14/14 [==============================] - 0s 8ms/step - loss: 0.1656 - f1_m: 0.9256 - val_loss: 1.6808 - val_f1_m: 0.6724\n",
            "Epoch 88/100\n",
            "14/14 [==============================] - 0s 8ms/step - loss: 0.1514 - f1_m: 0.9202 - val_loss: 1.8291 - val_f1_m: 0.6891\n",
            "Epoch 89/100\n",
            "14/14 [==============================] - 0s 8ms/step - loss: 0.1642 - f1_m: 0.9271 - val_loss: 2.0185 - val_f1_m: 0.6786\n",
            "Epoch 90/100\n",
            "14/14 [==============================] - 0s 8ms/step - loss: 0.1655 - f1_m: 0.9301 - val_loss: 1.8692 - val_f1_m: 0.6578\n",
            "Epoch 91/100\n",
            "14/14 [==============================] - 0s 8ms/step - loss: 0.1739 - f1_m: 0.9313 - val_loss: 1.8241 - val_f1_m: 0.6514\n",
            "Epoch 92/100\n",
            "14/14 [==============================] - 0s 7ms/step - loss: 0.1620 - f1_m: 0.9211 - val_loss: 1.3728 - val_f1_m: 0.6525\n",
            "Epoch 93/100\n",
            "14/14 [==============================] - 0s 8ms/step - loss: 0.1643 - f1_m: 0.9222 - val_loss: 1.8300 - val_f1_m: 0.6540\n",
            "Epoch 94/100\n",
            "14/14 [==============================] - 0s 8ms/step - loss: 0.2694 - f1_m: 0.9065 - val_loss: 1.5080 - val_f1_m: 0.6578\n",
            "Epoch 95/100\n",
            "14/14 [==============================] - 0s 7ms/step - loss: 0.2307 - f1_m: 0.8985 - val_loss: 1.4145 - val_f1_m: 0.6969\n",
            "Epoch 96/100\n",
            "14/14 [==============================] - 0s 5ms/step - loss: 0.1758 - f1_m: 0.9205 - val_loss: 1.2269 - val_f1_m: 0.7028\n",
            "Epoch 97/100\n",
            "14/14 [==============================] - 0s 5ms/step - loss: 0.1480 - f1_m: 0.9292 - val_loss: 1.4669 - val_f1_m: 0.6979\n",
            "Epoch 98/100\n",
            "14/14 [==============================] - 0s 5ms/step - loss: 0.1750 - f1_m: 0.9189 - val_loss: 1.5715 - val_f1_m: 0.6646\n",
            "Epoch 99/100\n",
            "14/14 [==============================] - 0s 5ms/step - loss: 0.1730 - f1_m: 0.9264 - val_loss: 1.7020 - val_f1_m: 0.6901\n",
            "Epoch 100/100\n",
            "14/14 [==============================] - 0s 5ms/step - loss: 0.1447 - f1_m: 0.9322 - val_loss: 1.7338 - val_f1_m: 0.6930\n"
          ]
        }
      ],
      "source": [
        "history = model.fit(X_train, y_train, epochs=100, validation_split=0.2, verbose=1)"
      ]
    },
    {
      "cell_type": "code",
      "execution_count": null,
      "metadata": {
        "colab": {
          "base_uri": "https://localhost:8080/",
          "height": 513
        },
        "id": "dc8sFuOaa_61",
        "outputId": "c75e2ae9-aa9b-4a91-b460-b367163c2070"
      },
      "outputs": [
        {
          "output_type": "display_data",
          "data": {
            "text/plain": [
              "<Figure size 1080x576 with 1 Axes>"
            ],
            "image/png": "[encoded data removed]"
          },
          "metadata": {
            "needs_background": "light"
          }
        }
      ],
      "source": [
        "# model performance across epochs\n",
        "plt.figure(figsize=(15,8))\n",
        "plt.plot(history.history['loss'])\n",
        "plt.plot(history.history['val_loss'])\n",
        "plt.title('Model Loss')\n",
        "plt.ylabel('loss')\n",
        "plt.xlabel('epoch')\n",
        "plt.legend(['train_loss','val_loss'], loc = 'upper right')\n",
        "plt.show()"
      ]
    },
    {
      "cell_type": "code",
      "execution_count": null,
      "metadata": {
        "id": "LXNtkCwXbHsj"
      },
      "outputs": [],
      "source": [
        "# EVALUATING MODEL PERFORMANCE"
      ]
    },
    {
      "cell_type": "code",
      "execution_count": null,
      "metadata": {
        "id": "IHUuR6r6bO1N"
      },
      "outputs": [],
      "source": [
        "predictions = model.predict(X_test)\n",
        "predict = []\n",
        "\n",
        "for i in predictions:\n",
        "    predict.append(np.argmax(i))"
      ]
    },
    {
      "cell_type": "code",
      "execution_count": null,
      "metadata": {
        "colab": {
          "base_uri": "https://localhost:8080/"
        },
        "id": "5ZtMk0YZbPij",
        "outputId": "3e627fff-7e07-4fb7-bec1-9930f2955164"
      },
      "outputs": [
        {
          "output_type": "stream",
          "name": "stdout",
          "text": [
            "F1 Score: 0.7294.\n",
            "Precision: 0.7381.\n",
            "Recall: 0.7209.\n",
            "Accuracy: 0.6290.\n"
          ]
        }
      ],
      "source": [
        "from sklearn import metrics\n",
        "y_test = np.argmax(y_test, axis=1)\n",
        "\n",
        "f1_test = metrics.f1_score(y_test, predict)\n",
        "prec = metrics.precision_score(y_test, predict)\n",
        "rec = metrics.recall_score(y_test, predict)\n",
        "acc = metrics.accuracy_score(y_test, predict)\n",
        "\n",
        "print (\"F1 Score: {:.4f}.\".format(f1_test))\n",
        "print (\"Precision: {:.4f}.\".format(prec))\n",
        "print (\"Recall: {:.4f}.\".format(rec))\n",
        "print (\"Accuracy: {:.4f}.\".format(acc))"
      ]
    },
    {
      "cell_type": "code",
      "execution_count": null,
      "metadata": {
        "colab": {
          "base_uri": "https://localhost:8080/",
          "height": 483
        },
        "id": "JLcLnISubT03",
        "outputId": "7848ef07-c452-4280-f8c4-12d451a9e4b9"
      },
      "outputs": [
        {
          "output_type": "display_data",
          "data": {
            "text/plain": [
              "<Figure size 720x576 with 1 Axes>"
            ],
            "image/png": "[encoded data removed]"
          },
          "metadata": {
            "needs_background": "light"
          }
        }
      ],
      "source": [
        "confusion_matrix = metrics.confusion_matrix(y_test, predict)\n",
        "plt.figure(figsize=(10,8))\n",
        "sns.heatmap(confusion_matrix, annot=True, cbar=False)\n",
        "plt.show()"
      ]
    },
    {
      "cell_type": "code",
      "execution_count": null,
      "metadata": {
        "colab": {
          "base_uri": "https://localhost:8080/"
        },
        "id": "WoKgR5XEbXOQ",
        "outputId": "16442918-d55b-42fc-f7a9-02b92990152e"
      },
      "outputs": [
        {
          "output_type": "stream",
          "name": "stdout",
          "text": [
            "              precision    recall  f1-score   support\n",
            "\n",
            "           0       0.40      0.42      0.41        19\n",
            "           1       0.74      0.72      0.73        43\n",
            "\n",
            "    accuracy                           0.63        62\n",
            "   macro avg       0.57      0.57      0.57        62\n",
            "weighted avg       0.63      0.63      0.63        62\n",
            "\n"
          ]
        }
      ],
      "source": [
        "print(metrics.classification_report(y_test, predict))"
      ]
    },
    {
      "cell_type": "code",
      "execution_count": null,
      "metadata": {
        "colab": {
          "base_uri": "https://localhost:8080/"
        },
        "id": "-yPYx5iobZZV",
        "outputId": "a1e7ae16-f52d-480d-e978-133347469308"
      },
      "outputs": [
        {
          "output_type": "stream",
          "name": "stdout",
          "text": [
            "[[0. 1.]]\n",
            "Loan Disapproved\n"
          ]
        }
      ],
      "source": [
        "# custom input\n",
        "new_X = (0,1,1,1,0,4383,1508.0,128.0,360.0,1,0)\n",
        "new_arr = np.asarray(new_X)\n",
        "arr_reshaped = new_arr.reshape(1,-1)\n",
        "prediction = model.predict(arr_reshaped)\n",
        "print(prediction)\n",
        "if(prediction[0][0] == 1.0):\n",
        "  print(\"Loan Approved\")\n",
        "else:\n",
        "  print(\"Loan Disapproved\")"
      ]
    },
    {
      "cell_type": "code",
      "execution_count": null,
      "metadata": {
        "id": "HDnxcOsWF1fo"
      },
      "outputs": [],
      "source": [
        ""
      ]
    }
  ],
  "metadata": {
    "accelerator": "GPU",
    "colab": {
      "name": "Loan Prediction System.ipynb",
      "provenance": [],
      "authorship_tag": "ABX9TyP4QNKX7KuUG+pRD7mnRm6s",
      "include_colab_link": true
    },
    "gpuClass": "standard",
    "kernelspec": {
      "display_name": "Python 3",
      "name": "python3"
    },
    "language_info": {
      "name": "python"
    }
  },
  "nbformat": 4,
  "nbformat_minor": 0
}